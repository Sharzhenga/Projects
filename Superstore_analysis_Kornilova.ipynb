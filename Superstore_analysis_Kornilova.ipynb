{
 "cells": [
  {
   "cell_type": "markdown",
   "id": "b35ef827",
   "metadata": {},
   "source": [
    "# Анализ данных Sample-Superstore Sales по продуктам и геолокации"
   ]
  },
  {
   "cell_type": "markdown",
   "id": "2f5b9310",
   "metadata": {},
   "source": [
    "## Оглавление:\n",
    "* [0. Предварительная обработка данных](#zero-bullet)    \n",
    "* [1. Исследование данных](#one-bullet)     \n",
    "    + [1.1 Статистика по продуктам](#scoring-bullet)\n",
    "     - [Возвраты](#returns-bullet)\n",
    "    + [1.2 Влияние географического положения](#geography-bullet)  \n",
    "     - [Количество представленных наименований](#number-bullet)   \n",
    "     - [Прибыль](#profit-bullet) [по сегментам,](#profit-segments-bullet) [категориям](#profit-categories-bullet) и [подкатегориям](#profit-subcategories-bullet)\n",
    "     - [Время доставки](#delivery-bullet)\n",
    "* [2. Выводы и рекомендации](#two-bullet)    "
   ]
  },
  {
   "cell_type": "markdown",
   "id": "46faf07a",
   "metadata": {},
   "source": [
    "## 0. Предварительная обработка данных <a class=\"anchor\" id=\"zero-bullet\"></a>"
   ]
  },
  {
   "cell_type": "markdown",
   "id": "9c2c27e5",
   "metadata": {},
   "source": [
    "Источник данных: https://community.tableau.com/s/question/0D54T00000CWeX8SAL/sample-superstore-sales-excelxls"
   ]
  },
  {
   "cell_type": "code",
   "execution_count": 1,
   "id": "84e14c65",
   "metadata": {},
   "outputs": [],
   "source": [
    "#импорт библиотек\n",
    "import pandas as pd\n",
    "import numpy as np\n",
    "from datetime import datetime\n",
    "\n",
    "#визуализация\n",
    "import seaborn as sns\n",
    "import matplotlib.pyplot as plt\n",
    "from matplotlib import rcParams\n",
    "\n",
    "#свойства f-строк\n",
    "import colorama\n",
    "from colorama import Fore, Style"
   ]
  },
  {
   "cell_type": "code",
   "execution_count": 2,
   "id": "c8c58784",
   "metadata": {},
   "outputs": [],
   "source": [
    "#параметры визуализаций\n",
    "sns.set(style=\"darkgrid\")\n",
    "sns.set(palette = 'deep')\n",
    "sns.set(rc={'figure.figsize':(5,3)})"
   ]
  },
  {
   "cell_type": "code",
   "execution_count": 3,
   "id": "4906fee8",
   "metadata": {
    "scrolled": true
   },
   "outputs": [
    {
     "data": {
      "text/html": [
       "<div>\n",
       "<style scoped>\n",
       "    .dataframe tbody tr th:only-of-type {\n",
       "        vertical-align: middle;\n",
       "    }\n",
       "\n",
       "    .dataframe tbody tr th {\n",
       "        vertical-align: top;\n",
       "    }\n",
       "\n",
       "    .dataframe thead th {\n",
       "        text-align: right;\n",
       "    }\n",
       "</style>\n",
       "<table border=\"1\" class=\"dataframe\">\n",
       "  <thead>\n",
       "    <tr style=\"text-align: right;\">\n",
       "      <th></th>\n",
       "      <th>Row ID</th>\n",
       "      <th>Order ID</th>\n",
       "      <th>Order Date</th>\n",
       "      <th>Ship Date</th>\n",
       "      <th>Ship Mode</th>\n",
       "      <th>Customer ID</th>\n",
       "      <th>Customer Name</th>\n",
       "      <th>Segment</th>\n",
       "      <th>Country</th>\n",
       "      <th>City</th>\n",
       "      <th>...</th>\n",
       "      <th>Postal Code</th>\n",
       "      <th>Region</th>\n",
       "      <th>Product ID</th>\n",
       "      <th>Category</th>\n",
       "      <th>Sub-Category</th>\n",
       "      <th>Product Name</th>\n",
       "      <th>Sales</th>\n",
       "      <th>Quantity</th>\n",
       "      <th>Discount</th>\n",
       "      <th>Profit</th>\n",
       "    </tr>\n",
       "  </thead>\n",
       "  <tbody>\n",
       "    <tr>\n",
       "      <th>0</th>\n",
       "      <td>1</td>\n",
       "      <td>CA-2016-152156</td>\n",
       "      <td>2016-11-08</td>\n",
       "      <td>2016-11-11</td>\n",
       "      <td>Second Class</td>\n",
       "      <td>CG-12520</td>\n",
       "      <td>Claire Gute</td>\n",
       "      <td>Consumer</td>\n",
       "      <td>United States</td>\n",
       "      <td>Henderson</td>\n",
       "      <td>...</td>\n",
       "      <td>42420</td>\n",
       "      <td>South</td>\n",
       "      <td>FUR-BO-10001798</td>\n",
       "      <td>Furniture</td>\n",
       "      <td>Bookcases</td>\n",
       "      <td>Bush Somerset Collection Bookcase</td>\n",
       "      <td>261.9600</td>\n",
       "      <td>2</td>\n",
       "      <td>0.00</td>\n",
       "      <td>41.9136</td>\n",
       "    </tr>\n",
       "    <tr>\n",
       "      <th>1</th>\n",
       "      <td>2</td>\n",
       "      <td>CA-2016-152156</td>\n",
       "      <td>2016-11-08</td>\n",
       "      <td>2016-11-11</td>\n",
       "      <td>Second Class</td>\n",
       "      <td>CG-12520</td>\n",
       "      <td>Claire Gute</td>\n",
       "      <td>Consumer</td>\n",
       "      <td>United States</td>\n",
       "      <td>Henderson</td>\n",
       "      <td>...</td>\n",
       "      <td>42420</td>\n",
       "      <td>South</td>\n",
       "      <td>FUR-CH-10000454</td>\n",
       "      <td>Furniture</td>\n",
       "      <td>Chairs</td>\n",
       "      <td>Hon Deluxe Fabric Upholstered Stacking Chairs,...</td>\n",
       "      <td>731.9400</td>\n",
       "      <td>3</td>\n",
       "      <td>0.00</td>\n",
       "      <td>219.5820</td>\n",
       "    </tr>\n",
       "    <tr>\n",
       "      <th>2</th>\n",
       "      <td>3</td>\n",
       "      <td>CA-2016-138688</td>\n",
       "      <td>2016-06-12</td>\n",
       "      <td>2016-06-16</td>\n",
       "      <td>Second Class</td>\n",
       "      <td>DV-13045</td>\n",
       "      <td>Darrin Van Huff</td>\n",
       "      <td>Corporate</td>\n",
       "      <td>United States</td>\n",
       "      <td>Los Angeles</td>\n",
       "      <td>...</td>\n",
       "      <td>90036</td>\n",
       "      <td>West</td>\n",
       "      <td>OFF-LA-10000240</td>\n",
       "      <td>Office Supplies</td>\n",
       "      <td>Labels</td>\n",
       "      <td>Self-Adhesive Address Labels for Typewriters b...</td>\n",
       "      <td>14.6200</td>\n",
       "      <td>2</td>\n",
       "      <td>0.00</td>\n",
       "      <td>6.8714</td>\n",
       "    </tr>\n",
       "    <tr>\n",
       "      <th>3</th>\n",
       "      <td>4</td>\n",
       "      <td>US-2015-108966</td>\n",
       "      <td>2015-10-11</td>\n",
       "      <td>2015-10-18</td>\n",
       "      <td>Standard Class</td>\n",
       "      <td>SO-20335</td>\n",
       "      <td>Sean O'Donnell</td>\n",
       "      <td>Consumer</td>\n",
       "      <td>United States</td>\n",
       "      <td>Fort Lauderdale</td>\n",
       "      <td>...</td>\n",
       "      <td>33311</td>\n",
       "      <td>South</td>\n",
       "      <td>FUR-TA-10000577</td>\n",
       "      <td>Furniture</td>\n",
       "      <td>Tables</td>\n",
       "      <td>Bretford CR4500 Series Slim Rectangular Table</td>\n",
       "      <td>957.5775</td>\n",
       "      <td>5</td>\n",
       "      <td>0.45</td>\n",
       "      <td>-383.0310</td>\n",
       "    </tr>\n",
       "    <tr>\n",
       "      <th>4</th>\n",
       "      <td>5</td>\n",
       "      <td>US-2015-108966</td>\n",
       "      <td>2015-10-11</td>\n",
       "      <td>2015-10-18</td>\n",
       "      <td>Standard Class</td>\n",
       "      <td>SO-20335</td>\n",
       "      <td>Sean O'Donnell</td>\n",
       "      <td>Consumer</td>\n",
       "      <td>United States</td>\n",
       "      <td>Fort Lauderdale</td>\n",
       "      <td>...</td>\n",
       "      <td>33311</td>\n",
       "      <td>South</td>\n",
       "      <td>OFF-ST-10000760</td>\n",
       "      <td>Office Supplies</td>\n",
       "      <td>Storage</td>\n",
       "      <td>Eldon Fold 'N Roll Cart System</td>\n",
       "      <td>22.3680</td>\n",
       "      <td>2</td>\n",
       "      <td>0.20</td>\n",
       "      <td>2.5164</td>\n",
       "    </tr>\n",
       "  </tbody>\n",
       "</table>\n",
       "<p>5 rows × 21 columns</p>\n",
       "</div>"
      ],
      "text/plain": [
       "   Row ID        Order ID Order Date  Ship Date       Ship Mode Customer ID  \\\n",
       "0       1  CA-2016-152156 2016-11-08 2016-11-11    Second Class    CG-12520   \n",
       "1       2  CA-2016-152156 2016-11-08 2016-11-11    Second Class    CG-12520   \n",
       "2       3  CA-2016-138688 2016-06-12 2016-06-16    Second Class    DV-13045   \n",
       "3       4  US-2015-108966 2015-10-11 2015-10-18  Standard Class    SO-20335   \n",
       "4       5  US-2015-108966 2015-10-11 2015-10-18  Standard Class    SO-20335   \n",
       "\n",
       "     Customer Name    Segment        Country             City  ...  \\\n",
       "0      Claire Gute   Consumer  United States        Henderson  ...   \n",
       "1      Claire Gute   Consumer  United States        Henderson  ...   \n",
       "2  Darrin Van Huff  Corporate  United States      Los Angeles  ...   \n",
       "3   Sean O'Donnell   Consumer  United States  Fort Lauderdale  ...   \n",
       "4   Sean O'Donnell   Consumer  United States  Fort Lauderdale  ...   \n",
       "\n",
       "  Postal Code  Region       Product ID         Category Sub-Category  \\\n",
       "0       42420   South  FUR-BO-10001798        Furniture    Bookcases   \n",
       "1       42420   South  FUR-CH-10000454        Furniture       Chairs   \n",
       "2       90036    West  OFF-LA-10000240  Office Supplies       Labels   \n",
       "3       33311   South  FUR-TA-10000577        Furniture       Tables   \n",
       "4       33311   South  OFF-ST-10000760  Office Supplies      Storage   \n",
       "\n",
       "                                        Product Name     Sales  Quantity  \\\n",
       "0                  Bush Somerset Collection Bookcase  261.9600         2   \n",
       "1  Hon Deluxe Fabric Upholstered Stacking Chairs,...  731.9400         3   \n",
       "2  Self-Adhesive Address Labels for Typewriters b...   14.6200         2   \n",
       "3      Bretford CR4500 Series Slim Rectangular Table  957.5775         5   \n",
       "4                     Eldon Fold 'N Roll Cart System   22.3680         2   \n",
       "\n",
       "   Discount    Profit  \n",
       "0      0.00   41.9136  \n",
       "1      0.00  219.5820  \n",
       "2      0.00    6.8714  \n",
       "3      0.45 -383.0310  \n",
       "4      0.20    2.5164  \n",
       "\n",
       "[5 rows x 21 columns]"
      ]
     },
     "execution_count": 3,
     "metadata": {},
     "output_type": "execute_result"
    }
   ],
   "source": [
    "#загрузка данных о заказах из той же папки, где находится Jupiter Notebook\n",
    "df = pd.read_excel(\"Sample - Superstore.xls\", sheet_name='Orders')\n",
    "df.head()"
   ]
  },
  {
   "cell_type": "code",
   "execution_count": 4,
   "id": "38ca8349",
   "metadata": {
    "scrolled": true
   },
   "outputs": [
    {
     "data": {
      "text/html": [
       "<div>\n",
       "<style scoped>\n",
       "    .dataframe tbody tr th:only-of-type {\n",
       "        vertical-align: middle;\n",
       "    }\n",
       "\n",
       "    .dataframe tbody tr th {\n",
       "        vertical-align: top;\n",
       "    }\n",
       "\n",
       "    .dataframe thead th {\n",
       "        text-align: right;\n",
       "    }\n",
       "</style>\n",
       "<table border=\"1\" class=\"dataframe\">\n",
       "  <thead>\n",
       "    <tr style=\"text-align: right;\">\n",
       "      <th></th>\n",
       "      <th>Returned</th>\n",
       "      <th>Order ID</th>\n",
       "    </tr>\n",
       "  </thead>\n",
       "  <tbody>\n",
       "    <tr>\n",
       "      <th>0</th>\n",
       "      <td>1</td>\n",
       "      <td>CA-2017-153822</td>\n",
       "    </tr>\n",
       "    <tr>\n",
       "      <th>1</th>\n",
       "      <td>1</td>\n",
       "      <td>CA-2017-129707</td>\n",
       "    </tr>\n",
       "    <tr>\n",
       "      <th>2</th>\n",
       "      <td>1</td>\n",
       "      <td>CA-2014-152345</td>\n",
       "    </tr>\n",
       "    <tr>\n",
       "      <th>3</th>\n",
       "      <td>1</td>\n",
       "      <td>CA-2015-156440</td>\n",
       "    </tr>\n",
       "    <tr>\n",
       "      <th>4</th>\n",
       "      <td>1</td>\n",
       "      <td>US-2017-155999</td>\n",
       "    </tr>\n",
       "  </tbody>\n",
       "</table>\n",
       "</div>"
      ],
      "text/plain": [
       "   Returned        Order ID\n",
       "0         1  CA-2017-153822\n",
       "1         1  CA-2017-129707\n",
       "2         1  CA-2014-152345\n",
       "3         1  CA-2015-156440\n",
       "4         1  US-2017-155999"
      ]
     },
     "execution_count": 4,
     "metadata": {},
     "output_type": "execute_result"
    }
   ],
   "source": [
    "#данные о возвратах\n",
    "df_returns = pd.read_excel(\"Sample - Superstore.xls\", sheet_name='Returns')\n",
    "#заменяю Yes на 1 для удобства дальнейших расчетов\n",
    "df_returns['Returned'] = df_returns['Returned'].replace('Yes', 1)\n",
    "df_returns.head()"
   ]
  },
  {
   "cell_type": "code",
   "execution_count": 5,
   "id": "0039ede8",
   "metadata": {},
   "outputs": [
    {
     "data": {
      "text/plain": [
       "(296, 2)"
      ]
     },
     "execution_count": 5,
     "metadata": {},
     "output_type": "execute_result"
    }
   ],
   "source": [
    "df_returns.shape"
   ]
  },
  {
   "cell_type": "code",
   "execution_count": 6,
   "id": "0537433d",
   "metadata": {
    "scrolled": true
   },
   "outputs": [
    {
     "data": {
      "text/html": [
       "<div>\n",
       "<style scoped>\n",
       "    .dataframe tbody tr th:only-of-type {\n",
       "        vertical-align: middle;\n",
       "    }\n",
       "\n",
       "    .dataframe tbody tr th {\n",
       "        vertical-align: top;\n",
       "    }\n",
       "\n",
       "    .dataframe thead th {\n",
       "        text-align: right;\n",
       "    }\n",
       "</style>\n",
       "<table border=\"1\" class=\"dataframe\">\n",
       "  <thead>\n",
       "    <tr style=\"text-align: right;\">\n",
       "      <th></th>\n",
       "      <th>Row ID</th>\n",
       "      <th>Order ID</th>\n",
       "      <th>Order Date</th>\n",
       "      <th>Ship Date</th>\n",
       "      <th>Ship Mode</th>\n",
       "      <th>Customer ID</th>\n",
       "      <th>Customer Name</th>\n",
       "      <th>Segment</th>\n",
       "      <th>Country</th>\n",
       "      <th>City</th>\n",
       "      <th>...</th>\n",
       "      <th>Region</th>\n",
       "      <th>Product ID</th>\n",
       "      <th>Category</th>\n",
       "      <th>Sub-Category</th>\n",
       "      <th>Product Name</th>\n",
       "      <th>Sales</th>\n",
       "      <th>Quantity</th>\n",
       "      <th>Discount</th>\n",
       "      <th>Profit</th>\n",
       "      <th>Returned</th>\n",
       "    </tr>\n",
       "  </thead>\n",
       "  <tbody>\n",
       "    <tr>\n",
       "      <th>0</th>\n",
       "      <td>1</td>\n",
       "      <td>CA-2016-152156</td>\n",
       "      <td>2016-11-08</td>\n",
       "      <td>2016-11-11</td>\n",
       "      <td>Second Class</td>\n",
       "      <td>CG-12520</td>\n",
       "      <td>Claire Gute</td>\n",
       "      <td>Consumer</td>\n",
       "      <td>United States</td>\n",
       "      <td>Henderson</td>\n",
       "      <td>...</td>\n",
       "      <td>South</td>\n",
       "      <td>FUR-BO-10001798</td>\n",
       "      <td>Furniture</td>\n",
       "      <td>Bookcases</td>\n",
       "      <td>Bush Somerset Collection Bookcase</td>\n",
       "      <td>261.9600</td>\n",
       "      <td>2</td>\n",
       "      <td>0.00</td>\n",
       "      <td>41.9136</td>\n",
       "      <td>NaN</td>\n",
       "    </tr>\n",
       "    <tr>\n",
       "      <th>1</th>\n",
       "      <td>2</td>\n",
       "      <td>CA-2016-152156</td>\n",
       "      <td>2016-11-08</td>\n",
       "      <td>2016-11-11</td>\n",
       "      <td>Second Class</td>\n",
       "      <td>CG-12520</td>\n",
       "      <td>Claire Gute</td>\n",
       "      <td>Consumer</td>\n",
       "      <td>United States</td>\n",
       "      <td>Henderson</td>\n",
       "      <td>...</td>\n",
       "      <td>South</td>\n",
       "      <td>FUR-CH-10000454</td>\n",
       "      <td>Furniture</td>\n",
       "      <td>Chairs</td>\n",
       "      <td>Hon Deluxe Fabric Upholstered Stacking Chairs,...</td>\n",
       "      <td>731.9400</td>\n",
       "      <td>3</td>\n",
       "      <td>0.00</td>\n",
       "      <td>219.5820</td>\n",
       "      <td>NaN</td>\n",
       "    </tr>\n",
       "    <tr>\n",
       "      <th>2</th>\n",
       "      <td>3</td>\n",
       "      <td>CA-2016-138688</td>\n",
       "      <td>2016-06-12</td>\n",
       "      <td>2016-06-16</td>\n",
       "      <td>Second Class</td>\n",
       "      <td>DV-13045</td>\n",
       "      <td>Darrin Van Huff</td>\n",
       "      <td>Corporate</td>\n",
       "      <td>United States</td>\n",
       "      <td>Los Angeles</td>\n",
       "      <td>...</td>\n",
       "      <td>West</td>\n",
       "      <td>OFF-LA-10000240</td>\n",
       "      <td>Office Supplies</td>\n",
       "      <td>Labels</td>\n",
       "      <td>Self-Adhesive Address Labels for Typewriters b...</td>\n",
       "      <td>14.6200</td>\n",
       "      <td>2</td>\n",
       "      <td>0.00</td>\n",
       "      <td>6.8714</td>\n",
       "      <td>NaN</td>\n",
       "    </tr>\n",
       "    <tr>\n",
       "      <th>3</th>\n",
       "      <td>4</td>\n",
       "      <td>US-2015-108966</td>\n",
       "      <td>2015-10-11</td>\n",
       "      <td>2015-10-18</td>\n",
       "      <td>Standard Class</td>\n",
       "      <td>SO-20335</td>\n",
       "      <td>Sean O'Donnell</td>\n",
       "      <td>Consumer</td>\n",
       "      <td>United States</td>\n",
       "      <td>Fort Lauderdale</td>\n",
       "      <td>...</td>\n",
       "      <td>South</td>\n",
       "      <td>FUR-TA-10000577</td>\n",
       "      <td>Furniture</td>\n",
       "      <td>Tables</td>\n",
       "      <td>Bretford CR4500 Series Slim Rectangular Table</td>\n",
       "      <td>957.5775</td>\n",
       "      <td>5</td>\n",
       "      <td>0.45</td>\n",
       "      <td>-383.0310</td>\n",
       "      <td>NaN</td>\n",
       "    </tr>\n",
       "    <tr>\n",
       "      <th>4</th>\n",
       "      <td>5</td>\n",
       "      <td>US-2015-108966</td>\n",
       "      <td>2015-10-11</td>\n",
       "      <td>2015-10-18</td>\n",
       "      <td>Standard Class</td>\n",
       "      <td>SO-20335</td>\n",
       "      <td>Sean O'Donnell</td>\n",
       "      <td>Consumer</td>\n",
       "      <td>United States</td>\n",
       "      <td>Fort Lauderdale</td>\n",
       "      <td>...</td>\n",
       "      <td>South</td>\n",
       "      <td>OFF-ST-10000760</td>\n",
       "      <td>Office Supplies</td>\n",
       "      <td>Storage</td>\n",
       "      <td>Eldon Fold 'N Roll Cart System</td>\n",
       "      <td>22.3680</td>\n",
       "      <td>2</td>\n",
       "      <td>0.20</td>\n",
       "      <td>2.5164</td>\n",
       "      <td>NaN</td>\n",
       "    </tr>\n",
       "    <tr>\n",
       "      <th>...</th>\n",
       "      <td>...</td>\n",
       "      <td>...</td>\n",
       "      <td>...</td>\n",
       "      <td>...</td>\n",
       "      <td>...</td>\n",
       "      <td>...</td>\n",
       "      <td>...</td>\n",
       "      <td>...</td>\n",
       "      <td>...</td>\n",
       "      <td>...</td>\n",
       "      <td>...</td>\n",
       "      <td>...</td>\n",
       "      <td>...</td>\n",
       "      <td>...</td>\n",
       "      <td>...</td>\n",
       "      <td>...</td>\n",
       "      <td>...</td>\n",
       "      <td>...</td>\n",
       "      <td>...</td>\n",
       "      <td>...</td>\n",
       "      <td>...</td>\n",
       "    </tr>\n",
       "    <tr>\n",
       "      <th>9989</th>\n",
       "      <td>9990</td>\n",
       "      <td>CA-2014-110422</td>\n",
       "      <td>2014-01-21</td>\n",
       "      <td>2014-01-23</td>\n",
       "      <td>Second Class</td>\n",
       "      <td>TB-21400</td>\n",
       "      <td>Tom Boeckenhauer</td>\n",
       "      <td>Consumer</td>\n",
       "      <td>United States</td>\n",
       "      <td>Miami</td>\n",
       "      <td>...</td>\n",
       "      <td>South</td>\n",
       "      <td>FUR-FU-10001889</td>\n",
       "      <td>Furniture</td>\n",
       "      <td>Furnishings</td>\n",
       "      <td>Ultra Door Pull Handle</td>\n",
       "      <td>25.2480</td>\n",
       "      <td>3</td>\n",
       "      <td>0.20</td>\n",
       "      <td>4.1028</td>\n",
       "      <td>NaN</td>\n",
       "    </tr>\n",
       "    <tr>\n",
       "      <th>9990</th>\n",
       "      <td>9991</td>\n",
       "      <td>CA-2017-121258</td>\n",
       "      <td>2017-02-26</td>\n",
       "      <td>2017-03-03</td>\n",
       "      <td>Standard Class</td>\n",
       "      <td>DB-13060</td>\n",
       "      <td>Dave Brooks</td>\n",
       "      <td>Consumer</td>\n",
       "      <td>United States</td>\n",
       "      <td>Costa Mesa</td>\n",
       "      <td>...</td>\n",
       "      <td>West</td>\n",
       "      <td>FUR-FU-10000747</td>\n",
       "      <td>Furniture</td>\n",
       "      <td>Furnishings</td>\n",
       "      <td>Tenex B1-RE Series Chair Mats for Low Pile Car...</td>\n",
       "      <td>91.9600</td>\n",
       "      <td>2</td>\n",
       "      <td>0.00</td>\n",
       "      <td>15.6332</td>\n",
       "      <td>1.0</td>\n",
       "    </tr>\n",
       "    <tr>\n",
       "      <th>9991</th>\n",
       "      <td>9992</td>\n",
       "      <td>CA-2017-121258</td>\n",
       "      <td>2017-02-26</td>\n",
       "      <td>2017-03-03</td>\n",
       "      <td>Standard Class</td>\n",
       "      <td>DB-13060</td>\n",
       "      <td>Dave Brooks</td>\n",
       "      <td>Consumer</td>\n",
       "      <td>United States</td>\n",
       "      <td>Costa Mesa</td>\n",
       "      <td>...</td>\n",
       "      <td>West</td>\n",
       "      <td>TEC-PH-10003645</td>\n",
       "      <td>Technology</td>\n",
       "      <td>Phones</td>\n",
       "      <td>Aastra 57i VoIP phone</td>\n",
       "      <td>258.5760</td>\n",
       "      <td>2</td>\n",
       "      <td>0.20</td>\n",
       "      <td>19.3932</td>\n",
       "      <td>1.0</td>\n",
       "    </tr>\n",
       "    <tr>\n",
       "      <th>9992</th>\n",
       "      <td>9993</td>\n",
       "      <td>CA-2017-121258</td>\n",
       "      <td>2017-02-26</td>\n",
       "      <td>2017-03-03</td>\n",
       "      <td>Standard Class</td>\n",
       "      <td>DB-13060</td>\n",
       "      <td>Dave Brooks</td>\n",
       "      <td>Consumer</td>\n",
       "      <td>United States</td>\n",
       "      <td>Costa Mesa</td>\n",
       "      <td>...</td>\n",
       "      <td>West</td>\n",
       "      <td>OFF-PA-10004041</td>\n",
       "      <td>Office Supplies</td>\n",
       "      <td>Paper</td>\n",
       "      <td>It's Hot Message Books with Stickers, 2 3/4\" x 5\"</td>\n",
       "      <td>29.6000</td>\n",
       "      <td>4</td>\n",
       "      <td>0.00</td>\n",
       "      <td>13.3200</td>\n",
       "      <td>1.0</td>\n",
       "    </tr>\n",
       "    <tr>\n",
       "      <th>9993</th>\n",
       "      <td>9994</td>\n",
       "      <td>CA-2017-119914</td>\n",
       "      <td>2017-05-04</td>\n",
       "      <td>2017-05-09</td>\n",
       "      <td>Second Class</td>\n",
       "      <td>CC-12220</td>\n",
       "      <td>Chris Cortes</td>\n",
       "      <td>Consumer</td>\n",
       "      <td>United States</td>\n",
       "      <td>Westminster</td>\n",
       "      <td>...</td>\n",
       "      <td>West</td>\n",
       "      <td>OFF-AP-10002684</td>\n",
       "      <td>Office Supplies</td>\n",
       "      <td>Appliances</td>\n",
       "      <td>Acco 7-Outlet Masterpiece Power Center, Wihtou...</td>\n",
       "      <td>243.1600</td>\n",
       "      <td>2</td>\n",
       "      <td>0.00</td>\n",
       "      <td>72.9480</td>\n",
       "      <td>NaN</td>\n",
       "    </tr>\n",
       "  </tbody>\n",
       "</table>\n",
       "<p>9994 rows × 22 columns</p>\n",
       "</div>"
      ],
      "text/plain": [
       "      Row ID        Order ID Order Date  Ship Date       Ship Mode  \\\n",
       "0          1  CA-2016-152156 2016-11-08 2016-11-11    Second Class   \n",
       "1          2  CA-2016-152156 2016-11-08 2016-11-11    Second Class   \n",
       "2          3  CA-2016-138688 2016-06-12 2016-06-16    Second Class   \n",
       "3          4  US-2015-108966 2015-10-11 2015-10-18  Standard Class   \n",
       "4          5  US-2015-108966 2015-10-11 2015-10-18  Standard Class   \n",
       "...      ...             ...        ...        ...             ...   \n",
       "9989    9990  CA-2014-110422 2014-01-21 2014-01-23    Second Class   \n",
       "9990    9991  CA-2017-121258 2017-02-26 2017-03-03  Standard Class   \n",
       "9991    9992  CA-2017-121258 2017-02-26 2017-03-03  Standard Class   \n",
       "9992    9993  CA-2017-121258 2017-02-26 2017-03-03  Standard Class   \n",
       "9993    9994  CA-2017-119914 2017-05-04 2017-05-09    Second Class   \n",
       "\n",
       "     Customer ID     Customer Name    Segment        Country             City  \\\n",
       "0       CG-12520       Claire Gute   Consumer  United States        Henderson   \n",
       "1       CG-12520       Claire Gute   Consumer  United States        Henderson   \n",
       "2       DV-13045   Darrin Van Huff  Corporate  United States      Los Angeles   \n",
       "3       SO-20335    Sean O'Donnell   Consumer  United States  Fort Lauderdale   \n",
       "4       SO-20335    Sean O'Donnell   Consumer  United States  Fort Lauderdale   \n",
       "...          ...               ...        ...            ...              ...   \n",
       "9989    TB-21400  Tom Boeckenhauer   Consumer  United States            Miami   \n",
       "9990    DB-13060       Dave Brooks   Consumer  United States       Costa Mesa   \n",
       "9991    DB-13060       Dave Brooks   Consumer  United States       Costa Mesa   \n",
       "9992    DB-13060       Dave Brooks   Consumer  United States       Costa Mesa   \n",
       "9993    CC-12220      Chris Cortes   Consumer  United States      Westminster   \n",
       "\n",
       "      ... Region       Product ID         Category Sub-Category  \\\n",
       "0     ...  South  FUR-BO-10001798        Furniture    Bookcases   \n",
       "1     ...  South  FUR-CH-10000454        Furniture       Chairs   \n",
       "2     ...   West  OFF-LA-10000240  Office Supplies       Labels   \n",
       "3     ...  South  FUR-TA-10000577        Furniture       Tables   \n",
       "4     ...  South  OFF-ST-10000760  Office Supplies      Storage   \n",
       "...   ...    ...              ...              ...          ...   \n",
       "9989  ...  South  FUR-FU-10001889        Furniture  Furnishings   \n",
       "9990  ...   West  FUR-FU-10000747        Furniture  Furnishings   \n",
       "9991  ...   West  TEC-PH-10003645       Technology       Phones   \n",
       "9992  ...   West  OFF-PA-10004041  Office Supplies        Paper   \n",
       "9993  ...   West  OFF-AP-10002684  Office Supplies   Appliances   \n",
       "\n",
       "                                           Product Name     Sales Quantity  \\\n",
       "0                     Bush Somerset Collection Bookcase  261.9600        2   \n",
       "1     Hon Deluxe Fabric Upholstered Stacking Chairs,...  731.9400        3   \n",
       "2     Self-Adhesive Address Labels for Typewriters b...   14.6200        2   \n",
       "3         Bretford CR4500 Series Slim Rectangular Table  957.5775        5   \n",
       "4                        Eldon Fold 'N Roll Cart System   22.3680        2   \n",
       "...                                                 ...       ...      ...   \n",
       "9989                             Ultra Door Pull Handle   25.2480        3   \n",
       "9990  Tenex B1-RE Series Chair Mats for Low Pile Car...   91.9600        2   \n",
       "9991                              Aastra 57i VoIP phone  258.5760        2   \n",
       "9992  It's Hot Message Books with Stickers, 2 3/4\" x 5\"   29.6000        4   \n",
       "9993  Acco 7-Outlet Masterpiece Power Center, Wihtou...  243.1600        2   \n",
       "\n",
       "      Discount    Profit  Returned  \n",
       "0         0.00   41.9136       NaN  \n",
       "1         0.00  219.5820       NaN  \n",
       "2         0.00    6.8714       NaN  \n",
       "3         0.45 -383.0310       NaN  \n",
       "4         0.20    2.5164       NaN  \n",
       "...        ...       ...       ...  \n",
       "9989      0.20    4.1028       NaN  \n",
       "9990      0.00   15.6332       1.0  \n",
       "9991      0.20   19.3932       1.0  \n",
       "9992      0.00   13.3200       1.0  \n",
       "9993      0.00   72.9480       NaN  \n",
       "\n",
       "[9994 rows x 22 columns]"
      ]
     },
     "execution_count": 6,
     "metadata": {},
     "output_type": "execute_result"
    }
   ],
   "source": [
    "#объединяю датафреймы, переназывая полученный df\n",
    "df = pd.merge(df, df_returns, on='Order ID', how='left')\n",
    "df"
   ]
  },
  {
   "cell_type": "markdown",
   "id": "6f1f2351",
   "metadata": {},
   "source": [
    "Теперь df - общий датафрейм, содержащий всю информацию о заказах и возвратах."
   ]
  },
  {
   "cell_type": "code",
   "execution_count": 7,
   "id": "76b662b0",
   "metadata": {},
   "outputs": [
    {
     "data": {
      "text/plain": [
       "(9994, 22)"
      ]
     },
     "execution_count": 7,
     "metadata": {},
     "output_type": "execute_result"
    }
   ],
   "source": [
    "#размер датасета\n",
    "df.shape"
   ]
  },
  {
   "cell_type": "code",
   "execution_count": 8,
   "id": "bd62407c",
   "metadata": {
    "scrolled": true
   },
   "outputs": [
    {
     "data": {
      "text/plain": [
       "Row ID              0\n",
       "Order ID            0\n",
       "Order Date          0\n",
       "Ship Date           0\n",
       "Ship Mode           0\n",
       "Customer ID         0\n",
       "Customer Name       0\n",
       "Segment             0\n",
       "Country             0\n",
       "City                0\n",
       "State               0\n",
       "Postal Code         0\n",
       "Region              0\n",
       "Product ID          0\n",
       "Category            0\n",
       "Sub-Category        0\n",
       "Product Name        0\n",
       "Sales               0\n",
       "Quantity            0\n",
       "Discount            0\n",
       "Profit              0\n",
       "Returned         9194\n",
       "dtype: int64"
      ]
     },
     "execution_count": 8,
     "metadata": {},
     "output_type": "execute_result"
    }
   ],
   "source": [
    "#количество пропущенных значений\n",
    "df.isna().sum()"
   ]
  },
  {
   "cell_type": "markdown",
   "id": "b0798072",
   "metadata": {},
   "source": [
    "Пропущенные значения только в столбце Returned - для товаров, по которым не было возвратов."
   ]
  },
  {
   "cell_type": "code",
   "execution_count": 9,
   "id": "9f0c57ba",
   "metadata": {},
   "outputs": [
    {
     "data": {
      "text/plain": [
       "0"
      ]
     },
     "execution_count": 9,
     "metadata": {},
     "output_type": "execute_result"
    }
   ],
   "source": [
    "#количество дубликатов\n",
    "df.duplicated().sum()"
   ]
  },
  {
   "cell_type": "code",
   "execution_count": 10,
   "id": "16b04a09",
   "metadata": {
    "scrolled": true
   },
   "outputs": [
    {
     "data": {
      "text/plain": [
       "Row ID                    int64\n",
       "Order ID                 object\n",
       "Order Date       datetime64[ns]\n",
       "Ship Date        datetime64[ns]\n",
       "Ship Mode                object\n",
       "Customer ID              object\n",
       "Customer Name            object\n",
       "Segment                  object\n",
       "Country                  object\n",
       "City                     object\n",
       "State                    object\n",
       "Postal Code               int64\n",
       "Region                   object\n",
       "Product ID               object\n",
       "Category                 object\n",
       "Sub-Category             object\n",
       "Product Name             object\n",
       "Sales                   float64\n",
       "Quantity                  int64\n",
       "Discount                float64\n",
       "Profit                  float64\n",
       "Returned                float64\n",
       "dtype: object"
      ]
     },
     "execution_count": 10,
     "metadata": {},
     "output_type": "execute_result"
    }
   ],
   "source": [
    "#типы данных в колонках\n",
    "df.dtypes"
   ]
  },
  {
   "cell_type": "code",
   "execution_count": 11,
   "id": "661ed5d6",
   "metadata": {},
   "outputs": [
    {
     "data": {
      "text/plain": [
       "Index(['Row_ID', 'Order_ID', 'Order_Date', 'Ship_Date', 'Ship_Mode',\n",
       "       'Customer_ID', 'Customer_Name', 'Segment', 'Country', 'City', 'State',\n",
       "       'Postal_Code', 'Region', 'Product_ID', 'Category', 'Sub-Category',\n",
       "       'Product_Name', 'Sales', 'Quantity', 'Discount', 'Profit', 'Returned'],\n",
       "      dtype='object')"
      ]
     },
     "execution_count": 11,
     "metadata": {},
     "output_type": "execute_result"
    }
   ],
   "source": [
    "#заменяю пробелы в названиях колонок на _\n",
    "df = df.rename(columns=lambda x: x.replace(' ', '_'))\n",
    "#результат\n",
    "df.columns"
   ]
  },
  {
   "cell_type": "markdown",
   "id": "372d01b1",
   "metadata": {},
   "source": [
    "Перейдем к исследованию."
   ]
  },
  {
   "cell_type": "markdown",
   "id": "ae2d9f70",
   "metadata": {},
   "source": [
    "## 1. Исследование данных <a class=\"anchor\" id=\"one-bullet\"></a>"
   ]
  },
  {
   "cell_type": "code",
   "execution_count": 12,
   "id": "b09514fc",
   "metadata": {},
   "outputs": [
    {
     "name": "stdout",
     "output_type": "stream",
     "text": [
      "\u001b[34mВ данных представленна статистика с 2014 по 2017 год.\u001b[0m\n",
      "В ходе расчетов агрегировались данные по всему этому промежутку.\n"
     ]
    }
   ],
   "source": [
    "print(f'{Fore.BLUE}В данных представленна статистика с {df.Order_Date.dt.year.min()} по {df.Order_Date.dt.year.max()} год.{Style.RESET_ALL}')\n",
    "print('В ходе расчетов агрегировались данные по всему этому промежутку.')"
   ]
  },
  {
   "cell_type": "code",
   "execution_count": 13,
   "id": "25267473",
   "metadata": {
    "scrolled": true
   },
   "outputs": [
    {
     "name": "stdout",
     "output_type": "stream",
     "text": [
      "\u001b[34mДанные представлены по 531 городу, 49 штатам и 4 регионам United States.\n"
     ]
    }
   ],
   "source": [
    "print(f'{Fore.BLUE}Данные представлены по {df.City.nunique()} городу, {df.State.nunique()} штатам и {df.Region.nunique()} регионам {df.Country.unique()[0]}.')"
   ]
  },
  {
   "cell_type": "code",
   "execution_count": 14,
   "id": "fb960ac3",
   "metadata": {},
   "outputs": [
    {
     "data": {
      "text/plain": [
       "array(['South', 'West', 'Central', 'East'], dtype=object)"
      ]
     },
     "execution_count": 14,
     "metadata": {},
     "output_type": "execute_result"
    }
   ],
   "source": [
    "#регионы, представленные в данных\n",
    "df.Region.unique()"
   ]
  },
  {
   "cell_type": "code",
   "execution_count": 15,
   "id": "d6cd5470",
   "metadata": {},
   "outputs": [
    {
     "data": {
      "text/plain": [
       "1862"
      ]
     },
     "execution_count": 15,
     "metadata": {},
     "output_type": "execute_result"
    }
   ],
   "source": [
    "#являются ли Product_ID и Product Name уникальными\n",
    "df.Product_ID.nunique()"
   ]
  },
  {
   "cell_type": "code",
   "execution_count": 16,
   "id": "138e4644",
   "metadata": {
    "scrolled": true
   },
   "outputs": [
    {
     "data": {
      "text/plain": [
       "1850"
      ]
     },
     "execution_count": 16,
     "metadata": {},
     "output_type": "execute_result"
    }
   ],
   "source": [
    "df.Product_Name.nunique()"
   ]
  },
  {
   "cell_type": "markdown",
   "id": "443c9d0b",
   "metadata": {},
   "source": [
    "Так как количество уникальных Product_ID больше, чем Product_Name, буду считать Product_ID уникальным идентификатором продукта."
   ]
  },
  {
   "cell_type": "markdown",
   "id": "1c1a2877",
   "metadata": {},
   "source": [
    "<font color = #2B65EC >**Критерии оценки продаж продуктов:**    \n",
    "\n",
    "    1. Маржа прибыли (Profit_Margin = 100%*Profit/Sales),\n",
    "    2. Суммарная прибыль (Profit),\n",
    "    3. Число покупок продукта (Quantity),\n",
    "    4. Число возвратов.\n",
    "    \n",
    "**<font color = #2B65EC >Факторы, влияющие на продажи по географическому положению:**    \n",
    "\n",
    "    5. Количество представленных наименований,\n",
    "    6. Прибыльность по категориям/подкатегориям (Profit by Category/Sub-Category),\n",
    "       Прибыльность по сегментам (Profit by Segment),\n",
    "    7. Среднее время доставки для разных режимов (Delivery_Time)."
   ]
  },
  {
   "cell_type": "markdown",
   "id": "08a20a22",
   "metadata": {},
   "source": [
    "*Суммарную выручку (Sales) не беру в качестве критерия, так как она учтена в показателе Profit_Margin.*    "
   ]
  },
  {
   "cell_type": "code",
   "execution_count": 17,
   "id": "28a918d7",
   "metadata": {},
   "outputs": [],
   "source": [
    "#добавляю столбец Profit_Margin = 100% * Profit/Sales \n",
    "df['Profit_Margin'] = 100*df.Profit/df.Sales"
   ]
  },
  {
   "cell_type": "code",
   "execution_count": 18,
   "id": "38ef0748",
   "metadata": {},
   "outputs": [],
   "source": [
    "#добавляю столбец Delivery_Time\n",
    "df['Delivery_Time'] = df.Ship_Date - df.Order_Date"
   ]
  },
  {
   "cell_type": "code",
   "execution_count": 19,
   "id": "5b5eb419",
   "metadata": {
    "scrolled": true
   },
   "outputs": [
    {
     "data": {
      "text/html": [
       "<div>\n",
       "<style scoped>\n",
       "    .dataframe tbody tr th:only-of-type {\n",
       "        vertical-align: middle;\n",
       "    }\n",
       "\n",
       "    .dataframe tbody tr th {\n",
       "        vertical-align: top;\n",
       "    }\n",
       "\n",
       "    .dataframe thead th {\n",
       "        text-align: right;\n",
       "    }\n",
       "</style>\n",
       "<table border=\"1\" class=\"dataframe\">\n",
       "  <thead>\n",
       "    <tr style=\"text-align: right;\">\n",
       "      <th></th>\n",
       "      <th>Row_ID</th>\n",
       "      <th>Order_ID</th>\n",
       "      <th>Order_Date</th>\n",
       "      <th>Ship_Date</th>\n",
       "      <th>Ship_Mode</th>\n",
       "      <th>Customer_ID</th>\n",
       "      <th>Customer_Name</th>\n",
       "      <th>Segment</th>\n",
       "      <th>Country</th>\n",
       "      <th>City</th>\n",
       "      <th>...</th>\n",
       "      <th>Category</th>\n",
       "      <th>Sub-Category</th>\n",
       "      <th>Product_Name</th>\n",
       "      <th>Sales</th>\n",
       "      <th>Quantity</th>\n",
       "      <th>Discount</th>\n",
       "      <th>Profit</th>\n",
       "      <th>Returned</th>\n",
       "      <th>Profit_Margin</th>\n",
       "      <th>Delivery_Time</th>\n",
       "    </tr>\n",
       "  </thead>\n",
       "  <tbody>\n",
       "    <tr>\n",
       "      <th>0</th>\n",
       "      <td>1</td>\n",
       "      <td>CA-2016-152156</td>\n",
       "      <td>2016-11-08</td>\n",
       "      <td>2016-11-11</td>\n",
       "      <td>Second Class</td>\n",
       "      <td>CG-12520</td>\n",
       "      <td>Claire Gute</td>\n",
       "      <td>Consumer</td>\n",
       "      <td>United States</td>\n",
       "      <td>Henderson</td>\n",
       "      <td>...</td>\n",
       "      <td>Furniture</td>\n",
       "      <td>Bookcases</td>\n",
       "      <td>Bush Somerset Collection Bookcase</td>\n",
       "      <td>261.96</td>\n",
       "      <td>2</td>\n",
       "      <td>0.0</td>\n",
       "      <td>41.9136</td>\n",
       "      <td>NaN</td>\n",
       "      <td>16.0</td>\n",
       "      <td>3 days</td>\n",
       "    </tr>\n",
       "    <tr>\n",
       "      <th>1</th>\n",
       "      <td>2</td>\n",
       "      <td>CA-2016-152156</td>\n",
       "      <td>2016-11-08</td>\n",
       "      <td>2016-11-11</td>\n",
       "      <td>Second Class</td>\n",
       "      <td>CG-12520</td>\n",
       "      <td>Claire Gute</td>\n",
       "      <td>Consumer</td>\n",
       "      <td>United States</td>\n",
       "      <td>Henderson</td>\n",
       "      <td>...</td>\n",
       "      <td>Furniture</td>\n",
       "      <td>Chairs</td>\n",
       "      <td>Hon Deluxe Fabric Upholstered Stacking Chairs,...</td>\n",
       "      <td>731.94</td>\n",
       "      <td>3</td>\n",
       "      <td>0.0</td>\n",
       "      <td>219.5820</td>\n",
       "      <td>NaN</td>\n",
       "      <td>30.0</td>\n",
       "      <td>3 days</td>\n",
       "    </tr>\n",
       "  </tbody>\n",
       "</table>\n",
       "<p>2 rows × 24 columns</p>\n",
       "</div>"
      ],
      "text/plain": [
       "   Row_ID        Order_ID Order_Date  Ship_Date     Ship_Mode Customer_ID  \\\n",
       "0       1  CA-2016-152156 2016-11-08 2016-11-11  Second Class    CG-12520   \n",
       "1       2  CA-2016-152156 2016-11-08 2016-11-11  Second Class    CG-12520   \n",
       "\n",
       "  Customer_Name   Segment        Country       City  ...   Category  \\\n",
       "0   Claire Gute  Consumer  United States  Henderson  ...  Furniture   \n",
       "1   Claire Gute  Consumer  United States  Henderson  ...  Furniture   \n",
       "\n",
       "   Sub-Category                                       Product_Name   Sales  \\\n",
       "0     Bookcases                  Bush Somerset Collection Bookcase  261.96   \n",
       "1        Chairs  Hon Deluxe Fabric Upholstered Stacking Chairs,...  731.94   \n",
       "\n",
       "  Quantity Discount    Profit  Returned  Profit_Margin  Delivery_Time  \n",
       "0        2      0.0   41.9136       NaN           16.0         3 days  \n",
       "1        3      0.0  219.5820       NaN           30.0         3 days  \n",
       "\n",
       "[2 rows x 24 columns]"
      ]
     },
     "execution_count": 19,
     "metadata": {},
     "output_type": "execute_result"
    }
   ],
   "source": [
    "#проверка\n",
    "df.head(2)"
   ]
  },
  {
   "cell_type": "markdown",
   "id": "498df504",
   "metadata": {},
   "source": [
    "## 1.1 Статистика по продуктам  <a class=\"anchor\" id=\"scoring-bullet\"></a>    "
   ]
  },
  {
   "cell_type": "markdown",
   "id": "16bd8f79",
   "metadata": {},
   "source": [
    "<font color = #2B65EC>Рассмотрим следующие метрики оценки продуктов без привязки к географии заказов:    \n",
    "    \n",
    "    1. Маржа прибыли (100%*Profit/Sales),\n",
    "    2. Суммарная выручка (Profit),    \n",
    "    3. Количество проданных товаров (Quantity),\n",
    "    4. Число возвратов (Returned).    "
   ]
  },
  {
   "cell_type": "markdown",
   "id": "fd59fbc3",
   "metadata": {},
   "source": [
    "При группировке по продуктам будет неправильно брать среднюю маржу прибыли, нужно рассчитать средневзвешенную, как:    \n",
    "(Quantity1 * Profit_Margin1 + Quantity2 * Profit_Margin2 + ...) / (Quantity1+Quantity2+..)"
   ]
  },
  {
   "cell_type": "code",
   "execution_count": 20,
   "id": "b914eea5",
   "metadata": {},
   "outputs": [],
   "source": [
    "#вспомогательный показатель для расчета средневзвешенной маржи прибыли по продукту\n",
    "df['x_Profit_Margin'] = df.Profit_Margin*df.Quantity"
   ]
  },
  {
   "cell_type": "code",
   "execution_count": 21,
   "id": "62ba6653",
   "metadata": {
    "scrolled": true
   },
   "outputs": [
    {
     "data": {
      "text/html": [
       "<div>\n",
       "<style scoped>\n",
       "    .dataframe tbody tr th:only-of-type {\n",
       "        vertical-align: middle;\n",
       "    }\n",
       "\n",
       "    .dataframe tbody tr th {\n",
       "        vertical-align: top;\n",
       "    }\n",
       "\n",
       "    .dataframe thead th {\n",
       "        text-align: right;\n",
       "    }\n",
       "</style>\n",
       "<table border=\"1\" class=\"dataframe\">\n",
       "  <thead>\n",
       "    <tr style=\"text-align: right;\">\n",
       "      <th></th>\n",
       "      <th>Product_ID</th>\n",
       "      <th>Product_Name</th>\n",
       "      <th>Category</th>\n",
       "      <th>Sub-Category</th>\n",
       "      <th>Profit</th>\n",
       "      <th>Quantity</th>\n",
       "      <th>Returned</th>\n",
       "      <th>Weighted_Avg_Margin</th>\n",
       "    </tr>\n",
       "  </thead>\n",
       "  <tbody>\n",
       "    <tr>\n",
       "      <th>0</th>\n",
       "      <td>FUR-BO-10000112</td>\n",
       "      <td>Bush Birmingham Collection Bookcase, Dark Cherry</td>\n",
       "      <td>Furniture</td>\n",
       "      <td>Bookcases</td>\n",
       "      <td>-117.8820</td>\n",
       "      <td>9</td>\n",
       "      <td>0.0</td>\n",
       "      <td>-14.285714</td>\n",
       "    </tr>\n",
       "    <tr>\n",
       "      <th>1</th>\n",
       "      <td>FUR-BO-10000330</td>\n",
       "      <td>Sauder Camden County Barrister Bookcase, Plank...</td>\n",
       "      <td>Furniture</td>\n",
       "      <td>Bookcases</td>\n",
       "      <td>24.1960</td>\n",
       "      <td>10</td>\n",
       "      <td>1.0</td>\n",
       "      <td>1.858824</td>\n",
       "    </tr>\n",
       "    <tr>\n",
       "      <th>2</th>\n",
       "      <td>FUR-BO-10000362</td>\n",
       "      <td>Sauder Inglewood Library Bookcases</td>\n",
       "      <td>Furniture</td>\n",
       "      <td>Bookcases</td>\n",
       "      <td>311.1836</td>\n",
       "      <td>14</td>\n",
       "      <td>1.0</td>\n",
       "      <td>12.612395</td>\n",
       "    </tr>\n",
       "    <tr>\n",
       "      <th>3</th>\n",
       "      <td>FUR-BO-10000468</td>\n",
       "      <td>O'Sullivan 2-Shelf Heavy-Duty Bookcases</td>\n",
       "      <td>Furniture</td>\n",
       "      <td>Bookcases</td>\n",
       "      <td>-133.1092</td>\n",
       "      <td>21</td>\n",
       "      <td>1.0</td>\n",
       "      <td>-55.333333</td>\n",
       "    </tr>\n",
       "    <tr>\n",
       "      <th>4</th>\n",
       "      <td>FUR-BO-10000711</td>\n",
       "      <td>Hon Metal Bookcases, Gray</td>\n",
       "      <td>Furniture</td>\n",
       "      <td>Bookcases</td>\n",
       "      <td>229.9752</td>\n",
       "      <td>12</td>\n",
       "      <td>0.0</td>\n",
       "      <td>27.000000</td>\n",
       "    </tr>\n",
       "  </tbody>\n",
       "</table>\n",
       "</div>"
      ],
      "text/plain": [
       "        Product_ID                                       Product_Name  \\\n",
       "0  FUR-BO-10000112   Bush Birmingham Collection Bookcase, Dark Cherry   \n",
       "1  FUR-BO-10000330  Sauder Camden County Barrister Bookcase, Plank...   \n",
       "2  FUR-BO-10000362                 Sauder Inglewood Library Bookcases   \n",
       "3  FUR-BO-10000468            O'Sullivan 2-Shelf Heavy-Duty Bookcases   \n",
       "4  FUR-BO-10000711                          Hon Metal Bookcases, Gray   \n",
       "\n",
       "    Category Sub-Category    Profit  Quantity  Returned  Weighted_Avg_Margin  \n",
       "0  Furniture    Bookcases -117.8820         9       0.0           -14.285714  \n",
       "1  Furniture    Bookcases   24.1960        10       1.0             1.858824  \n",
       "2  Furniture    Bookcases  311.1836        14       1.0            12.612395  \n",
       "3  Furniture    Bookcases -133.1092        21       1.0           -55.333333  \n",
       "4  Furniture    Bookcases  229.9752        12       0.0            27.000000  "
      ]
     },
     "execution_count": 21,
     "metadata": {},
     "output_type": "execute_result"
    }
   ],
   "source": [
    "#информация о покупках каждого продукта\n",
    "df_products = df.groupby(['Product_ID', 'Product_Name', 'Category', 'Sub-Category'], as_index=False) \\\n",
    "    .agg({'x_Profit_Margin': 'sum', # Quantity1*Profit_Margin1 + Quantity2*Profit_Margin2 + ...\n",
    "          'Profit': 'sum',          # суммарная выручка\n",
    "          'Quantity': 'sum',        # суммарное количество купленных продуктов (Quantity1+Quantity2+..)\n",
    "          'Returned': 'sum'}) \n",
    "\n",
    "#средневзвешенная маржа прибыли от каждого продукта\n",
    "df_products['Weighted_Avg_Margin'] = df_products['x_Profit_Margin'] / df_products['Quantity'] \n",
    "#удаляю вспомогательный столбец\n",
    "df_products.drop('x_Profit_Margin', axis=1, inplace=True)\n",
    "\n",
    "df_products.head()"
   ]
  },
  {
   "cell_type": "markdown",
   "id": "639ef8ff",
   "metadata": {},
   "source": [
    "### Распределения для метрик оценки продуктов "
   ]
  },
  {
   "cell_type": "code",
   "execution_count": 22,
   "id": "a1a9ccc9",
   "metadata": {
    "scrolled": true
   },
   "outputs": [
    {
     "data": {
      "image/png": "[encoded data removed]",
      "text/plain": [
       "<Figure size 2000x500 with 4 Axes>"
      ]
     },
     "metadata": {},
     "output_type": "display_data"
    }
   ],
   "source": [
    "#задаю сетку 1 на 4\n",
    "fig, axes = plt.subplots(1, 4, figsize=(20,5))\n",
    "#заголовок\n",
    "plt.suptitle(\"Основные метрики оценки Product IDs\") \n",
    "\n",
    "#гистограммы распределений\n",
    "sns.histplot(data=df_products, x=\"Weighted_Avg_Margin\", ax=axes[0])\n",
    "axes[0].set_xlabel(\"Weighted Avg Profit Margin\")\n",
    "axes[0].set_xlim(-150, 70) #обрезаю выбросы для наглядности\n",
    "\n",
    "sns.histplot(data=df_products, x=\"Profit\", ax=axes[1])\n",
    "axes[1].set_xlabel(\"Total Profit\")\n",
    "axes[1].set_xlim(-150, 150) #обрезаю выбросы для наглядности\n",
    "\n",
    "sns.histplot(data=df_products, x=\"Quantity\",ax=axes[2])\n",
    "axes[2].set_xlabel(\"Number of sold products\")\n",
    "\n",
    "sns.histplot(data=df_products, x=\"Returned\",ax=axes[3])\n",
    "axes[3].set_xlabel(\"Number of Returns\")\n",
    "\n",
    "fig.subplots_adjust(wspace=0.4)\n",
    "plt.show()"
   ]
  },
  {
   "cell_type": "markdown",
   "id": "cc288295",
   "metadata": {},
   "source": [
    "Выводы из распределений выше:  \n",
    "* есть много товаров с отрицательными прибылью и маржой прибыли,    \n",
    "* число возвратов составляет от 0 до 3. "
   ]
  },
  {
   "cell_type": "markdown",
   "id": "0dfde84b",
   "metadata": {},
   "source": [
    "Стоит учитывать, что крупные товары покупаются реже мелких, независимо от других факторов.    \n",
    "При этом большой объём продаж не означает большой прибыли.    \n",
    "Поэтому <font color = #2B65EC>для дальнейшего анализа главным критерием буду считать не количество купленных продуктов, а прибыль от их продажи.   "
   ]
  },
  {
   "cell_type": "markdown",
   "id": "be5c7373",
   "metadata": {},
   "source": [
    "### Продукты с наибольшим числом возвратов <a class=\"anchor\" id=\"returns-bullet\"></a>    "
   ]
  },
  {
   "cell_type": "code",
   "execution_count": 23,
   "id": "a728afe8",
   "metadata": {
    "scrolled": true
   },
   "outputs": [
    {
     "data": {
      "text/html": [
       "<div>\n",
       "<style scoped>\n",
       "    .dataframe tbody tr th:only-of-type {\n",
       "        vertical-align: middle;\n",
       "    }\n",
       "\n",
       "    .dataframe tbody tr th {\n",
       "        vertical-align: top;\n",
       "    }\n",
       "\n",
       "    .dataframe thead th {\n",
       "        text-align: right;\n",
       "    }\n",
       "</style>\n",
       "<table border=\"1\" class=\"dataframe\">\n",
       "  <thead>\n",
       "    <tr style=\"text-align: right;\">\n",
       "      <th></th>\n",
       "      <th>Product_ID</th>\n",
       "      <th>Product_Name</th>\n",
       "      <th>Category</th>\n",
       "      <th>Sub-Category</th>\n",
       "      <th>Profit</th>\n",
       "      <th>Quantity</th>\n",
       "      <th>Returned</th>\n",
       "      <th>Weighted_Avg_Margin</th>\n",
       "    </tr>\n",
       "  </thead>\n",
       "  <tbody>\n",
       "    <tr>\n",
       "      <th>1831</th>\n",
       "      <td>TEC-PH-10003171</td>\n",
       "      <td>Plantronics Encore H101 Dual Earpieces Headset</td>\n",
       "      <td>Technology</td>\n",
       "      <td>Phones</td>\n",
       "      <td>163.6180</td>\n",
       "      <td>18</td>\n",
       "      <td>3.0</td>\n",
       "      <td>21.000000</td>\n",
       "    </tr>\n",
       "    <tr>\n",
       "      <th>549</th>\n",
       "      <td>OFF-AR-10001958</td>\n",
       "      <td>Stanley Bostitch Contemporary Electric Pencil ...</td>\n",
       "      <td>Office Supplies</td>\n",
       "      <td>Art</td>\n",
       "      <td>42.7896</td>\n",
       "      <td>19</td>\n",
       "      <td>3.0</td>\n",
       "      <td>14.736842</td>\n",
       "    </tr>\n",
       "    <tr>\n",
       "      <th>654</th>\n",
       "      <td>OFF-BI-10000174</td>\n",
       "      <td>Wilson Jones Clip &amp; Carry Folder Binder Tool f...</td>\n",
       "      <td>Office Supplies</td>\n",
       "      <td>Binders</td>\n",
       "      <td>50.2280</td>\n",
       "      <td>47</td>\n",
       "      <td>3.0</td>\n",
       "      <td>11.028369</td>\n",
       "    </tr>\n",
       "    <tr>\n",
       "      <th>668</th>\n",
       "      <td>OFF-BI-10000546</td>\n",
       "      <td>Avery Durable Binders</td>\n",
       "      <td>Office Supplies</td>\n",
       "      <td>Binders</td>\n",
       "      <td>13.8240</td>\n",
       "      <td>50</td>\n",
       "      <td>3.0</td>\n",
       "      <td>-32.175000</td>\n",
       "    </tr>\n",
       "    <tr>\n",
       "      <th>730</th>\n",
       "      <td>OFF-BI-10002012</td>\n",
       "      <td>Wilson Jones Easy Flow II Sheet Lifters</td>\n",
       "      <td>Office Supplies</td>\n",
       "      <td>Binders</td>\n",
       "      <td>5.6160</td>\n",
       "      <td>49</td>\n",
       "      <td>3.0</td>\n",
       "      <td>-39.374150</td>\n",
       "    </tr>\n",
       "    <tr>\n",
       "      <th>734</th>\n",
       "      <td>OFF-BI-10002071</td>\n",
       "      <td>Fellowes Black Plastic Comb Bindings</td>\n",
       "      <td>Office Supplies</td>\n",
       "      <td>Binders</td>\n",
       "      <td>-4.4156</td>\n",
       "      <td>34</td>\n",
       "      <td>3.0</td>\n",
       "      <td>-47.705882</td>\n",
       "    </tr>\n",
       "    <tr>\n",
       "      <th>741</th>\n",
       "      <td>OFF-BI-10002215</td>\n",
       "      <td>Wilson Jones Hanging View Binder, White, 1\"</td>\n",
       "      <td>Office Supplies</td>\n",
       "      <td>Binders</td>\n",
       "      <td>55.2380</td>\n",
       "      <td>23</td>\n",
       "      <td>3.0</td>\n",
       "      <td>37.782609</td>\n",
       "    </tr>\n",
       "    <tr>\n",
       "      <th>763</th>\n",
       "      <td>OFF-BI-10002852</td>\n",
       "      <td>Ibico Standard Transparent Covers</td>\n",
       "      <td>Office Supplies</td>\n",
       "      <td>Binders</td>\n",
       "      <td>104.8128</td>\n",
       "      <td>34</td>\n",
       "      <td>3.0</td>\n",
       "      <td>-8.000000</td>\n",
       "    </tr>\n",
       "    <tr>\n",
       "      <th>917</th>\n",
       "      <td>OFF-FA-10000304</td>\n",
       "      <td>Advantus Push Pins</td>\n",
       "      <td>Office Supplies</td>\n",
       "      <td>Fasteners</td>\n",
       "      <td>20.2086</td>\n",
       "      <td>27</td>\n",
       "      <td>3.0</td>\n",
       "      <td>36.083333</td>\n",
       "    </tr>\n",
       "    <tr>\n",
       "      <th>1210</th>\n",
       "      <td>OFF-PA-10002893</td>\n",
       "      <td>Wirebound Service Call Books, 5 1/2\" x 4\"</td>\n",
       "      <td>Office Supplies</td>\n",
       "      <td>Paper</td>\n",
       "      <td>60.4032</td>\n",
       "      <td>13</td>\n",
       "      <td>3.0</td>\n",
       "      <td>48.000000</td>\n",
       "    </tr>\n",
       "    <tr>\n",
       "      <th>1266</th>\n",
       "      <td>OFF-PA-10004039</td>\n",
       "      <td>Xerox 1882</td>\n",
       "      <td>Office Supplies</td>\n",
       "      <td>Paper</td>\n",
       "      <td>273.1824</td>\n",
       "      <td>12</td>\n",
       "      <td>3.0</td>\n",
       "      <td>43.687500</td>\n",
       "    </tr>\n",
       "    <tr>\n",
       "      <th>1335</th>\n",
       "      <td>OFF-ST-10000689</td>\n",
       "      <td>Fellowes Strictly Business Drawer File, Letter...</td>\n",
       "      <td>Office Supplies</td>\n",
       "      <td>Storage</td>\n",
       "      <td>388.7460</td>\n",
       "      <td>33</td>\n",
       "      <td>3.0</td>\n",
       "      <td>8.000000</td>\n",
       "    </tr>\n",
       "    <tr>\n",
       "      <th>117</th>\n",
       "      <td>FUR-CH-10003968</td>\n",
       "      <td>Novimex Turbo Task Chair</td>\n",
       "      <td>Furniture</td>\n",
       "      <td>Chairs</td>\n",
       "      <td>-32.6508</td>\n",
       "      <td>22</td>\n",
       "      <td>3.0</td>\n",
       "      <td>-3.111111</td>\n",
       "    </tr>\n",
       "    <tr>\n",
       "      <th>166</th>\n",
       "      <td>FUR-FU-10000747</td>\n",
       "      <td>Tenex B1-RE Series Chair Mats for Low Pile Car...</td>\n",
       "      <td>Furniture</td>\n",
       "      <td>Furnishings</td>\n",
       "      <td>124.6058</td>\n",
       "      <td>23</td>\n",
       "      <td>3.0</td>\n",
       "      <td>11.586957</td>\n",
       "    </tr>\n",
       "    <tr>\n",
       "      <th>195</th>\n",
       "      <td>FUR-FU-10001706</td>\n",
       "      <td>Longer-Life Soft White Bulbs</td>\n",
       "      <td>Furniture</td>\n",
       "      <td>Furnishings</td>\n",
       "      <td>44.7216</td>\n",
       "      <td>44</td>\n",
       "      <td>3.0</td>\n",
       "      <td>28.500000</td>\n",
       "    </tr>\n",
       "    <tr>\n",
       "      <th>369</th>\n",
       "      <td>FUR-TA-10004086</td>\n",
       "      <td>KI Adjustable-Height Table</td>\n",
       "      <td>Furniture</td>\n",
       "      <td>Tables</td>\n",
       "      <td>-22.3548</td>\n",
       "      <td>27</td>\n",
       "      <td>3.0</td>\n",
       "      <td>-8.505291</td>\n",
       "    </tr>\n",
       "  </tbody>\n",
       "</table>\n",
       "</div>"
      ],
      "text/plain": [
       "           Product_ID                                       Product_Name  \\\n",
       "1831  TEC-PH-10003171     Plantronics Encore H101 Dual Earpieces Headset   \n",
       "549   OFF-AR-10001958  Stanley Bostitch Contemporary Electric Pencil ...   \n",
       "654   OFF-BI-10000174  Wilson Jones Clip & Carry Folder Binder Tool f...   \n",
       "668   OFF-BI-10000546                              Avery Durable Binders   \n",
       "730   OFF-BI-10002012            Wilson Jones Easy Flow II Sheet Lifters   \n",
       "734   OFF-BI-10002071               Fellowes Black Plastic Comb Bindings   \n",
       "741   OFF-BI-10002215        Wilson Jones Hanging View Binder, White, 1\"   \n",
       "763   OFF-BI-10002852                  Ibico Standard Transparent Covers   \n",
       "917   OFF-FA-10000304                                 Advantus Push Pins   \n",
       "1210  OFF-PA-10002893          Wirebound Service Call Books, 5 1/2\" x 4\"   \n",
       "1266  OFF-PA-10004039                                         Xerox 1882   \n",
       "1335  OFF-ST-10000689  Fellowes Strictly Business Drawer File, Letter...   \n",
       "117   FUR-CH-10003968                           Novimex Turbo Task Chair   \n",
       "166   FUR-FU-10000747  Tenex B1-RE Series Chair Mats for Low Pile Car...   \n",
       "195   FUR-FU-10001706                       Longer-Life Soft White Bulbs   \n",
       "369   FUR-TA-10004086                         KI Adjustable-Height Table   \n",
       "\n",
       "             Category Sub-Category    Profit  Quantity  Returned  \\\n",
       "1831       Technology       Phones  163.6180        18       3.0   \n",
       "549   Office Supplies          Art   42.7896        19       3.0   \n",
       "654   Office Supplies      Binders   50.2280        47       3.0   \n",
       "668   Office Supplies      Binders   13.8240        50       3.0   \n",
       "730   Office Supplies      Binders    5.6160        49       3.0   \n",
       "734   Office Supplies      Binders   -4.4156        34       3.0   \n",
       "741   Office Supplies      Binders   55.2380        23       3.0   \n",
       "763   Office Supplies      Binders  104.8128        34       3.0   \n",
       "917   Office Supplies    Fasteners   20.2086        27       3.0   \n",
       "1210  Office Supplies        Paper   60.4032        13       3.0   \n",
       "1266  Office Supplies        Paper  273.1824        12       3.0   \n",
       "1335  Office Supplies      Storage  388.7460        33       3.0   \n",
       "117         Furniture       Chairs  -32.6508        22       3.0   \n",
       "166         Furniture  Furnishings  124.6058        23       3.0   \n",
       "195         Furniture  Furnishings   44.7216        44       3.0   \n",
       "369         Furniture       Tables  -22.3548        27       3.0   \n",
       "\n",
       "      Weighted_Avg_Margin  \n",
       "1831            21.000000  \n",
       "549             14.736842  \n",
       "654             11.028369  \n",
       "668            -32.175000  \n",
       "730            -39.374150  \n",
       "734            -47.705882  \n",
       "741             37.782609  \n",
       "763             -8.000000  \n",
       "917             36.083333  \n",
       "1210            48.000000  \n",
       "1266            43.687500  \n",
       "1335             8.000000  \n",
       "117             -3.111111  \n",
       "166             11.586957  \n",
       "195             28.500000  \n",
       "369             -8.505291  "
      ]
     },
     "execution_count": 23,
     "metadata": {},
     "output_type": "execute_result"
    }
   ],
   "source": [
    "#больше 2 возвратов\n",
    "df_products.query('Returned>2').sort_values('Category', ascending=False)"
   ]
  },
  {
   "cell_type": "markdown",
   "id": "8a588f9a",
   "metadata": {},
   "source": [
    "**Точка роста:**    \n",
    "<font color = #2B65EC > Проверить качество продуктов из списка выше и поднять вопросе об отказе от распространения товаров, не прошедших проверку."
   ]
  },
  {
   "cell_type": "markdown",
   "id": "40ed75cf",
   "metadata": {},
   "source": [
    "#### Какие товары имеют отрицательную прибыль и маржу прибыли по стране? <a class=\"anchor\" id=\"2\"></a>    "
   ]
  },
  {
   "cell_type": "code",
   "execution_count": 24,
   "id": "a4eadc95",
   "metadata": {},
   "outputs": [
    {
     "data": {
      "text/html": [
       "<div>\n",
       "<style scoped>\n",
       "    .dataframe tbody tr th:only-of-type {\n",
       "        vertical-align: middle;\n",
       "    }\n",
       "\n",
       "    .dataframe tbody tr th {\n",
       "        vertical-align: top;\n",
       "    }\n",
       "\n",
       "    .dataframe thead th {\n",
       "        text-align: right;\n",
       "    }\n",
       "</style>\n",
       "<table border=\"1\" class=\"dataframe\">\n",
       "  <thead>\n",
       "    <tr style=\"text-align: right;\">\n",
       "      <th></th>\n",
       "      <th>Product_ID</th>\n",
       "      <th>Product_Name</th>\n",
       "      <th>Category</th>\n",
       "      <th>Sub-Category</th>\n",
       "      <th>Profit</th>\n",
       "      <th>Quantity</th>\n",
       "      <th>Returned</th>\n",
       "      <th>Weighted_Avg_Margin</th>\n",
       "    </tr>\n",
       "  </thead>\n",
       "  <tbody>\n",
       "    <tr>\n",
       "      <th>1645</th>\n",
       "      <td>TEC-MA-10000418</td>\n",
       "      <td>Cubify CubeX 3D Printer Double Head Print</td>\n",
       "      <td>Technology</td>\n",
       "      <td>Machines</td>\n",
       "      <td>-8879.9704</td>\n",
       "      <td>9</td>\n",
       "      <td>0.0</td>\n",
       "      <td>-112.407407</td>\n",
       "    </tr>\n",
       "    <tr>\n",
       "      <th>1650</th>\n",
       "      <td>TEC-MA-10000822</td>\n",
       "      <td>Lexmark MX611dhe Monochrome Laser Printer</td>\n",
       "      <td>Technology</td>\n",
       "      <td>Machines</td>\n",
       "      <td>-4589.9730</td>\n",
       "      <td>18</td>\n",
       "      <td>0.0</td>\n",
       "      <td>-44.753086</td>\n",
       "    </tr>\n",
       "  </tbody>\n",
       "</table>\n",
       "</div>"
      ],
      "text/plain": [
       "           Product_ID                               Product_Name    Category  \\\n",
       "1645  TEC-MA-10000418  Cubify CubeX 3D Printer Double Head Print  Technology   \n",
       "1650  TEC-MA-10000822  Lexmark MX611dhe Monochrome Laser Printer  Technology   \n",
       "\n",
       "     Sub-Category     Profit  Quantity  Returned  Weighted_Avg_Margin  \n",
       "1645     Machines -8879.9704         9       0.0          -112.407407  \n",
       "1650     Machines -4589.9730        18       0.0           -44.753086  "
      ]
     },
     "execution_count": 24,
     "metadata": {},
     "output_type": "execute_result"
    }
   ],
   "source": [
    "df_products.query(\"Profit < 0\").sort_values('Profit').head(2)"
   ]
  },
  {
   "cell_type": "code",
   "execution_count": 25,
   "id": "8215b5ea",
   "metadata": {},
   "outputs": [
    {
     "data": {
      "text/html": [
       "<div>\n",
       "<style scoped>\n",
       "    .dataframe tbody tr th:only-of-type {\n",
       "        vertical-align: middle;\n",
       "    }\n",
       "\n",
       "    .dataframe tbody tr th {\n",
       "        vertical-align: top;\n",
       "    }\n",
       "\n",
       "    .dataframe thead th {\n",
       "        text-align: right;\n",
       "    }\n",
       "</style>\n",
       "<table border=\"1\" class=\"dataframe\">\n",
       "  <thead>\n",
       "    <tr style=\"text-align: right;\">\n",
       "      <th></th>\n",
       "      <th>Product_ID</th>\n",
       "      <th>Product_Name</th>\n",
       "      <th>Category</th>\n",
       "      <th>Sub-Category</th>\n",
       "      <th>Profit</th>\n",
       "      <th>Quantity</th>\n",
       "      <th>Returned</th>\n",
       "      <th>Weighted_Avg_Margin</th>\n",
       "    </tr>\n",
       "  </thead>\n",
       "  <tbody>\n",
       "    <tr>\n",
       "      <th>1645</th>\n",
       "      <td>TEC-MA-10000418</td>\n",
       "      <td>Cubify CubeX 3D Printer Double Head Print</td>\n",
       "      <td>Technology</td>\n",
       "      <td>Machines</td>\n",
       "      <td>-8879.9704</td>\n",
       "      <td>9</td>\n",
       "      <td>0.0</td>\n",
       "      <td>-112.407407</td>\n",
       "    </tr>\n",
       "    <tr>\n",
       "      <th>1650</th>\n",
       "      <td>TEC-MA-10000822</td>\n",
       "      <td>Lexmark MX611dhe Monochrome Laser Printer</td>\n",
       "      <td>Technology</td>\n",
       "      <td>Machines</td>\n",
       "      <td>-4589.9730</td>\n",
       "      <td>18</td>\n",
       "      <td>0.0</td>\n",
       "      <td>-44.753086</td>\n",
       "    </tr>\n",
       "  </tbody>\n",
       "</table>\n",
       "</div>"
      ],
      "text/plain": [
       "           Product_ID                               Product_Name    Category  \\\n",
       "1645  TEC-MA-10000418  Cubify CubeX 3D Printer Double Head Print  Technology   \n",
       "1650  TEC-MA-10000822  Lexmark MX611dhe Monochrome Laser Printer  Technology   \n",
       "\n",
       "     Sub-Category     Profit  Quantity  Returned  Weighted_Avg_Margin  \n",
       "1645     Machines -8879.9704         9       0.0          -112.407407  \n",
       "1650     Machines -4589.9730        18       0.0           -44.753086  "
      ]
     },
     "execution_count": 25,
     "metadata": {},
     "output_type": "execute_result"
    }
   ],
   "source": [
    "df_products.query(\"Weighted_Avg_Margin < 0\").sort_values('Profit').head(2)"
   ]
  },
  {
   "cell_type": "code",
   "execution_count": 26,
   "id": "3645e3b4",
   "metadata": {
    "scrolled": true
   },
   "outputs": [
    {
     "name": "stdout",
     "output_type": "stream",
     "text": [
      "\u001b[34m306 продуктов имеют отрицательную cуммарную прибыль и 469 продуктов - отрицательную средневзвешенную маржу прибыли по стране\n"
     ]
    }
   ],
   "source": [
    "print(f'{Fore.BLUE}{len(df_products.query(\"Profit < 0\"))} продуктов имеют отрицательную cуммарную прибыль и {len(df_products.query(\"Weighted_Avg_Margin < 0\"))} продуктов - отрицательную средневзвешенную маржу прибыли по стране')"
   ]
  },
  {
   "cell_type": "code",
   "execution_count": 27,
   "id": "61d98d88",
   "metadata": {},
   "outputs": [
    {
     "data": {
      "text/plain": [
       "306"
      ]
     },
     "execution_count": 27,
     "metadata": {},
     "output_type": "execute_result"
    }
   ],
   "source": [
    "#для проверки нахожу пересечение данных списков продуктов, размер списка\n",
    "len(df_products.query(\"Profit < 0 & Weighted_Avg_Margin < 0\"))"
   ]
  },
  {
   "cell_type": "markdown",
   "id": "20a0592d",
   "metadata": {},
   "source": [
    "**Точка роста:**    \n",
    "<font color = #2B65EC >Поднять вопрос о сокращении продаж товаров с отрицательной прибылью. \n",
    "    Если такие товары продаются в разных городах, и в части городов прибыль положительна, то исследовать, с чем связан убыток в других.     "
   ]
  },
  {
   "cell_type": "markdown",
   "id": "66d00525",
   "metadata": {},
   "source": [
    "Отдельно изучим список продуктов с отрицательной средневзвешенной маржой прибыли, но положительной сумарной прибылью по стране.    \n",
    "В каких регионах данные продукты прибыльно продавать, а в каких - нет?"
   ]
  },
  {
   "cell_type": "code",
   "execution_count": 28,
   "id": "ec168cb0",
   "metadata": {},
   "outputs": [],
   "source": [
    "#список товаров с отрицательной маржой, но положительной прибылью \n",
    "products_1 = df_products.query(\"Profit > 0 & Weighted_Avg_Margin < 0\").Product_ID"
   ]
  },
  {
   "cell_type": "code",
   "execution_count": 29,
   "id": "2069c413",
   "metadata": {
    "scrolled": true
   },
   "outputs": [
    {
     "data": {
      "text/html": [
       "<div>\n",
       "<style scoped>\n",
       "    .dataframe tbody tr th:only-of-type {\n",
       "        vertical-align: middle;\n",
       "    }\n",
       "\n",
       "    .dataframe tbody tr th {\n",
       "        vertical-align: top;\n",
       "    }\n",
       "\n",
       "    .dataframe thead th {\n",
       "        text-align: right;\n",
       "    }\n",
       "</style>\n",
       "<table border=\"1\" class=\"dataframe\">\n",
       "  <thead>\n",
       "    <tr style=\"text-align: right;\">\n",
       "      <th></th>\n",
       "      <th>Region</th>\n",
       "      <th>Category</th>\n",
       "      <th>Product_ID</th>\n",
       "      <th>Product_Name</th>\n",
       "      <th>Profit</th>\n",
       "      <th>Quantity</th>\n",
       "    </tr>\n",
       "  </thead>\n",
       "  <tbody>\n",
       "    <tr>\n",
       "      <th>149</th>\n",
       "      <td>Central</td>\n",
       "      <td>Technology</td>\n",
       "      <td>TEC-PH-10003931</td>\n",
       "      <td>JBL Micro Wireless Portable Bluetooth Speaker</td>\n",
       "      <td>14.9975</td>\n",
       "      <td>5</td>\n",
       "    </tr>\n",
       "    <tr>\n",
       "      <th>538</th>\n",
       "      <td>West</td>\n",
       "      <td>Technology</td>\n",
       "      <td>TEC-PH-10003931</td>\n",
       "      <td>JBL Micro Wireless Portable Bluetooth Speaker</td>\n",
       "      <td>8.9985</td>\n",
       "      <td>3</td>\n",
       "    </tr>\n",
       "    <tr>\n",
       "      <th>292</th>\n",
       "      <td>East</td>\n",
       "      <td>Technology</td>\n",
       "      <td>TEC-PH-10003931</td>\n",
       "      <td>JBL Micro Wireless Portable Bluetooth Speaker</td>\n",
       "      <td>-8.9985</td>\n",
       "      <td>9</td>\n",
       "    </tr>\n",
       "    <tr>\n",
       "      <th>148</th>\n",
       "      <td>Central</td>\n",
       "      <td>Technology</td>\n",
       "      <td>TEC-PH-10002824</td>\n",
       "      <td>Jabra SPEAK 410 Multidevice Speakerphone</td>\n",
       "      <td>51.4975</td>\n",
       "      <td>5</td>\n",
       "    </tr>\n",
       "    <tr>\n",
       "      <th>398</th>\n",
       "      <td>South</td>\n",
       "      <td>Technology</td>\n",
       "      <td>TEC-PH-10002824</td>\n",
       "      <td>Jabra SPEAK 410 Multidevice Speakerphone</td>\n",
       "      <td>51.4975</td>\n",
       "      <td>5</td>\n",
       "    </tr>\n",
       "  </tbody>\n",
       "</table>\n",
       "</div>"
      ],
      "text/plain": [
       "      Region    Category       Product_ID  \\\n",
       "149  Central  Technology  TEC-PH-10003931   \n",
       "538     West  Technology  TEC-PH-10003931   \n",
       "292     East  Technology  TEC-PH-10003931   \n",
       "148  Central  Technology  TEC-PH-10002824   \n",
       "398    South  Technology  TEC-PH-10002824   \n",
       "\n",
       "                                      Product_Name   Profit  Quantity  \n",
       "149  JBL Micro Wireless Portable Bluetooth Speaker  14.9975         5  \n",
       "538  JBL Micro Wireless Portable Bluetooth Speaker   8.9985         3  \n",
       "292  JBL Micro Wireless Portable Bluetooth Speaker  -8.9985         9  \n",
       "148       Jabra SPEAK 410 Multidevice Speakerphone  51.4975         5  \n",
       "398       Jabra SPEAK 410 Multidevice Speakerphone  51.4975         5  "
      ]
     },
     "execution_count": 29,
     "metadata": {},
     "output_type": "execute_result"
    }
   ],
   "source": [
    "#нахожу эти товары в исходной таблце, группирую по региону и категории\n",
    "df_neg_margin = df.query('Product_ID in @products_1') \\\n",
    "    .groupby(['Region','Category', 'Product_ID', 'Product_Name'], as_index = False) \\\n",
    "    .agg({'Profit':'sum', 'Quantity':'sum'}) \\\n",
    "    .sort_values(['Product_ID','Profit'], ascending = False)\n",
    "df_neg_margin.head()"
   ]
  },
  {
   "cell_type": "markdown",
   "id": "1a136174",
   "metadata": {},
   "source": [
    "Видим, например, товар TEC-PH-10003931 дал положительный профит в Central и West регионах, но отрицательную - в East регионе. Следовательно, стоит сократить его продажу на востоке, но оставить в остальных регионах."
   ]
  },
  {
   "cell_type": "markdown",
   "id": "da8718c7",
   "metadata": {},
   "source": [
    "Вынесем список таких продуктов с уточнением штата, где его продажи убыточны."
   ]
  },
  {
   "cell_type": "markdown",
   "id": "f32584df",
   "metadata": {},
   "source": [
    "**Список продуктов, убыточных в конкретных штатах:** <a class=\"anchor\" id=\"3\"></a>    "
   ]
  },
  {
   "cell_type": "code",
   "execution_count": 30,
   "id": "eabbc13f",
   "metadata": {
    "scrolled": true
   },
   "outputs": [
    {
     "data": {
      "text/html": [
       "<div>\n",
       "<style scoped>\n",
       "    .dataframe tbody tr th:only-of-type {\n",
       "        vertical-align: middle;\n",
       "    }\n",
       "\n",
       "    .dataframe tbody tr th {\n",
       "        vertical-align: top;\n",
       "    }\n",
       "\n",
       "    .dataframe thead th {\n",
       "        text-align: right;\n",
       "    }\n",
       "</style>\n",
       "<table border=\"1\" class=\"dataframe\">\n",
       "  <thead>\n",
       "    <tr style=\"text-align: right;\">\n",
       "      <th></th>\n",
       "      <th>Region</th>\n",
       "      <th>State</th>\n",
       "      <th>Category</th>\n",
       "      <th>Product_ID</th>\n",
       "      <th>Product_Name</th>\n",
       "    </tr>\n",
       "  </thead>\n",
       "  <tbody>\n",
       "    <tr>\n",
       "      <th>454</th>\n",
       "      <td>East</td>\n",
       "      <td>Ohio</td>\n",
       "      <td>Technology</td>\n",
       "      <td>TEC-PH-10003931</td>\n",
       "      <td>JBL Micro Wireless Portable Bluetooth Speaker</td>\n",
       "    </tr>\n",
       "    <tr>\n",
       "      <th>453</th>\n",
       "      <td>East</td>\n",
       "      <td>Ohio</td>\n",
       "      <td>Technology</td>\n",
       "      <td>TEC-PH-10002824</td>\n",
       "      <td>Jabra SPEAK 410 Multidevice Speakerphone</td>\n",
       "    </tr>\n",
       "    <tr>\n",
       "      <th>452</th>\n",
       "      <td>East</td>\n",
       "      <td>Ohio</td>\n",
       "      <td>Technology</td>\n",
       "      <td>TEC-PH-10000560</td>\n",
       "      <td>Samsung Galaxy S III - 16GB - pebble blue (T-M...</td>\n",
       "    </tr>\n",
       "    <tr>\n",
       "      <th>451</th>\n",
       "      <td>East</td>\n",
       "      <td>Ohio</td>\n",
       "      <td>Technology</td>\n",
       "      <td>TEC-MA-10000864</td>\n",
       "      <td>Cisco 9971 IP Video Phone Charcoal</td>\n",
       "    </tr>\n",
       "    <tr>\n",
       "      <th>824</th>\n",
       "      <td>West</td>\n",
       "      <td>Colorado</td>\n",
       "      <td>Technology</td>\n",
       "      <td>TEC-MA-10000597</td>\n",
       "      <td>Lexmark S315 Color Inkjet Printer</td>\n",
       "    </tr>\n",
       "    <tr>\n",
       "      <th>...</th>\n",
       "      <td>...</td>\n",
       "      <td>...</td>\n",
       "      <td>...</td>\n",
       "      <td>...</td>\n",
       "      <td>...</td>\n",
       "    </tr>\n",
       "    <tr>\n",
       "      <th>455</th>\n",
       "      <td>East</td>\n",
       "      <td>Pennsylvania</td>\n",
       "      <td>Furniture</td>\n",
       "      <td>FUR-CH-10002024</td>\n",
       "      <td>HON 5400 Series Task Chairs for Big and Tall</td>\n",
       "    </tr>\n",
       "    <tr>\n",
       "      <th>409</th>\n",
       "      <td>East</td>\n",
       "      <td>Ohio</td>\n",
       "      <td>Furniture</td>\n",
       "      <td>FUR-BO-10004015</td>\n",
       "      <td>Bush Andora Bookcase, Maple/Graphite Gray Finish</td>\n",
       "    </tr>\n",
       "    <tr>\n",
       "      <th>838</th>\n",
       "      <td>West</td>\n",
       "      <td>Oregon</td>\n",
       "      <td>Furniture</td>\n",
       "      <td>FUR-BO-10003660</td>\n",
       "      <td>Bush Cubix Collection Bookcases, Fully Assembled</td>\n",
       "    </tr>\n",
       "    <tr>\n",
       "      <th>149</th>\n",
       "      <td>Central</td>\n",
       "      <td>Texas</td>\n",
       "      <td>Furniture</td>\n",
       "      <td>FUR-BO-10001811</td>\n",
       "      <td>Atlantic Metals Mobile 5-Shelf Bookcases, Cust...</td>\n",
       "    </tr>\n",
       "    <tr>\n",
       "      <th>805</th>\n",
       "      <td>West</td>\n",
       "      <td>Colorado</td>\n",
       "      <td>Furniture</td>\n",
       "      <td>FUR-BO-10001811</td>\n",
       "      <td>Atlantic Metals Mobile 5-Shelf Bookcases, Cust...</td>\n",
       "    </tr>\n",
       "  </tbody>\n",
       "</table>\n",
       "<p>332 rows × 5 columns</p>\n",
       "</div>"
      ],
      "text/plain": [
       "      Region         State    Category       Product_ID  \\\n",
       "454     East          Ohio  Technology  TEC-PH-10003931   \n",
       "453     East          Ohio  Technology  TEC-PH-10002824   \n",
       "452     East          Ohio  Technology  TEC-PH-10000560   \n",
       "451     East          Ohio  Technology  TEC-MA-10000864   \n",
       "824     West      Colorado  Technology  TEC-MA-10000597   \n",
       "..       ...           ...         ...              ...   \n",
       "455     East  Pennsylvania   Furniture  FUR-CH-10002024   \n",
       "409     East          Ohio   Furniture  FUR-BO-10004015   \n",
       "838     West        Oregon   Furniture  FUR-BO-10003660   \n",
       "149  Central         Texas   Furniture  FUR-BO-10001811   \n",
       "805     West      Colorado   Furniture  FUR-BO-10001811   \n",
       "\n",
       "                                          Product_Name  \n",
       "454      JBL Micro Wireless Portable Bluetooth Speaker  \n",
       "453           Jabra SPEAK 410 Multidevice Speakerphone  \n",
       "452  Samsung Galaxy S III - 16GB - pebble blue (T-M...  \n",
       "451                 Cisco 9971 IP Video Phone Charcoal  \n",
       "824                  Lexmark S315 Color Inkjet Printer  \n",
       "..                                                 ...  \n",
       "455       HON 5400 Series Task Chairs for Big and Tall  \n",
       "409   Bush Andora Bookcase, Maple/Graphite Gray Finish  \n",
       "838   Bush Cubix Collection Bookcases, Fully Assembled  \n",
       "149  Atlantic Metals Mobile 5-Shelf Bookcases, Cust...  \n",
       "805  Atlantic Metals Mobile 5-Shelf Bookcases, Cust...  \n",
       "\n",
       "[332 rows x 5 columns]"
      ]
     },
     "execution_count": 30,
     "metadata": {},
     "output_type": "execute_result"
    }
   ],
   "source": [
    "#нахожу эти товары в исходной таблце, группирую по региону и категории\n",
    "df_neg_profit_state = df.query('Product_ID in @products_1') \\\n",
    "    .groupby(['Region','State', 'Category', 'Product_ID', 'Product_Name'], as_index = False) \\\n",
    "    .agg({'Profit':'sum', 'Quantity':'sum'}) \\\n",
    "    .sort_values(['Product_ID','Profit'], ascending = False) \\\n",
    "    .query('Profit<0')\n",
    "df_neg_profit_state[['Region','State','Category', 'Product_ID', 'Product_Name']]"
   ]
  },
  {
   "cell_type": "markdown",
   "id": "d85cf1df",
   "metadata": {},
   "source": [
    "**Точка роста:**    \n",
    "<font color = #2B65EC > Сократить продажу товаров в штатах из списка выше. "
   ]
  },
  {
   "cell_type": "markdown",
   "id": "e102c127",
   "metadata": {},
   "source": [
    "Далее рассмотрим влияние географического положения заказов на эффективность продаж."
   ]
  },
  {
   "cell_type": "markdown",
   "id": "d20f231c",
   "metadata": {},
   "source": [
    "## 1.2 Влияние географического положения  <a class=\"anchor\" id=\"geography-bullet\"></a>    "
   ]
  },
  {
   "cell_type": "markdown",
   "id": "f86b5dbc",
   "metadata": {},
   "source": [
    "<font color = #2B65EC> Факторы, зависящие от географического положения:    \n",
    "\n",
    "    5. Количество представленных наименований,\n",
    "    6. Прибыльность по категориям/подкатегориям (Profit by Category/Sub-Category),\n",
    "       Прибыльность по сегментам (Profit by Segment),\n",
    "    7. Среднее время доставки для разных режимов (Delivery_Time)."
   ]
  },
  {
   "cell_type": "markdown",
   "id": "4a12cfa6",
   "metadata": {},
   "source": [
    "### Количество представленных наименований по регионам <a class=\"anchor\" id=\"number-bullet\"></a>"
   ]
  },
  {
   "cell_type": "code",
   "execution_count": 31,
   "id": "7c63d781",
   "metadata": {
    "scrolled": true
   },
   "outputs": [
    {
     "data": {
      "text/html": [
       "<div>\n",
       "<style scoped>\n",
       "    .dataframe tbody tr th:only-of-type {\n",
       "        vertical-align: middle;\n",
       "    }\n",
       "\n",
       "    .dataframe tbody tr th {\n",
       "        vertical-align: top;\n",
       "    }\n",
       "\n",
       "    .dataframe thead th {\n",
       "        text-align: right;\n",
       "    }\n",
       "</style>\n",
       "<table border=\"1\" class=\"dataframe\">\n",
       "  <thead>\n",
       "    <tr style=\"text-align: right;\">\n",
       "      <th></th>\n",
       "      <th>Region</th>\n",
       "      <th>Number_of_Products</th>\n",
       "    </tr>\n",
       "  </thead>\n",
       "  <tbody>\n",
       "    <tr>\n",
       "      <th>3</th>\n",
       "      <td>West</td>\n",
       "      <td>1509</td>\n",
       "    </tr>\n",
       "    <tr>\n",
       "      <th>1</th>\n",
       "      <td>East</td>\n",
       "      <td>1422</td>\n",
       "    </tr>\n",
       "    <tr>\n",
       "      <th>0</th>\n",
       "      <td>Central</td>\n",
       "      <td>1310</td>\n",
       "    </tr>\n",
       "    <tr>\n",
       "      <th>2</th>\n",
       "      <td>South</td>\n",
       "      <td>1057</td>\n",
       "    </tr>\n",
       "  </tbody>\n",
       "</table>\n",
       "</div>"
      ],
      "text/plain": [
       "    Region  Number_of_Products\n",
       "3     West                1509\n",
       "1     East                1422\n",
       "0  Central                1310\n",
       "2    South                1057"
      ]
     },
     "execution_count": 31,
     "metadata": {},
     "output_type": "execute_result"
    }
   ],
   "source": [
    "#количество наименований продуктов по регионам\n",
    "df_region = df.groupby(['Region'], as_index = False) \\\n",
    "    .agg({'Product_ID':'nunique'}) \\\n",
    "    .rename(columns={'Product_ID':'Number_of_Products'}) \\\n",
    "    .sort_values('Number_of_Products', ascending = False)\n",
    "df_region"
   ]
  },
  {
   "cell_type": "code",
   "execution_count": 32,
   "id": "c74a805e",
   "metadata": {},
   "outputs": [
    {
     "data": {
      "text/plain": [
       "29.953611663353218"
      ]
     },
     "execution_count": 32,
     "metadata": {},
     "output_type": "execute_result"
    }
   ],
   "source": [
    "100*(1-1057/1509)"
   ]
  },
  {
   "cell_type": "markdown",
   "id": "4a1a406d",
   "metadata": {},
   "source": [
    "<font color = #2B65EC >На юге представленно почти на 30% наименований товаров меньше, чем на западе.    "
   ]
  },
  {
   "cell_type": "markdown",
   "id": "39ab2778",
   "metadata": {},
   "source": [
    "**Точка роста:**    \n",
    "<font color = #2B65EC > Поднять вопрос о возможном расширение линейки товаров, которые хорошо продаются в южном регионе."
   ]
  },
  {
   "cell_type": "markdown",
   "id": "16fff553",
   "metadata": {},
   "source": [
    "### Прибыль <a class=\"anchor\" id=\"profit-bullet\"></a>"
   ]
  },
  {
   "cell_type": "markdown",
   "id": "754071e7",
   "metadata": {},
   "source": [
    "Какие сегменты, категории и подкатегории товаров принесли наибольшую прибыль в зависимости от геолокации?"
   ]
  },
  {
   "cell_type": "markdown",
   "id": "be0ee9bd",
   "metadata": {},
   "source": [
    "### Прибыль по сегментам по регионам <a class=\"anchor\" id=\"profit-segments-bullet\"></a>"
   ]
  },
  {
   "cell_type": "code",
   "execution_count": 33,
   "id": "345bf943",
   "metadata": {
    "scrolled": true
   },
   "outputs": [
    {
     "data": {
      "text/html": [
       "<div>\n",
       "<style scoped>\n",
       "    .dataframe tbody tr th:only-of-type {\n",
       "        vertical-align: middle;\n",
       "    }\n",
       "\n",
       "    .dataframe tbody tr th {\n",
       "        vertical-align: top;\n",
       "    }\n",
       "\n",
       "    .dataframe thead th {\n",
       "        text-align: right;\n",
       "    }\n",
       "</style>\n",
       "<table border=\"1\" class=\"dataframe\">\n",
       "  <thead>\n",
       "    <tr style=\"text-align: right;\">\n",
       "      <th></th>\n",
       "      <th>Region</th>\n",
       "      <th>Segment</th>\n",
       "      <th>Profit</th>\n",
       "      <th>Quantity</th>\n",
       "    </tr>\n",
       "  </thead>\n",
       "  <tbody>\n",
       "    <tr>\n",
       "      <th>9</th>\n",
       "      <td>West</td>\n",
       "      <td>Consumer</td>\n",
       "      <td>57450.6040</td>\n",
       "      <td>6477</td>\n",
       "    </tr>\n",
       "    <tr>\n",
       "      <th>10</th>\n",
       "      <td>West</td>\n",
       "      <td>Corporate</td>\n",
       "      <td>34437.4299</td>\n",
       "      <td>3630</td>\n",
       "    </tr>\n",
       "    <tr>\n",
       "      <th>11</th>\n",
       "      <td>West</td>\n",
       "      <td>Home Office</td>\n",
       "      <td>16530.4150</td>\n",
       "      <td>2159</td>\n",
       "    </tr>\n",
       "    <tr>\n",
       "      <th>6</th>\n",
       "      <td>South</td>\n",
       "      <td>Consumer</td>\n",
       "      <td>26913.5728</td>\n",
       "      <td>3178</td>\n",
       "    </tr>\n",
       "    <tr>\n",
       "      <th>7</th>\n",
       "      <td>South</td>\n",
       "      <td>Corporate</td>\n",
       "      <td>15215.2232</td>\n",
       "      <td>2016</td>\n",
       "    </tr>\n",
       "  </tbody>\n",
       "</table>\n",
       "</div>"
      ],
      "text/plain": [
       "   Region      Segment      Profit  Quantity\n",
       "9    West     Consumer  57450.6040      6477\n",
       "10   West    Corporate  34437.4299      3630\n",
       "11   West  Home Office  16530.4150      2159\n",
       "6   South     Consumer  26913.5728      3178\n",
       "7   South    Corporate  15215.2232      2016"
      ]
     },
     "execution_count": 33,
     "metadata": {},
     "output_type": "execute_result"
    }
   ],
   "source": [
    "#данные о прибыли по регионам и сегментам\n",
    "df_region_segment = df \\\n",
    "    .groupby(['Region','Segment'], as_index = False) \\\n",
    "    .agg({'Profit':'sum', 'Quantity':'sum'}) \\\n",
    "    .sort_values(['Region','Profit'], ascending = False)\n",
    "df_region_segment.head()"
   ]
  },
  {
   "cell_type": "code",
   "execution_count": 34,
   "id": "a48e767c",
   "metadata": {},
   "outputs": [
    {
     "data": {
      "image/png": "[encoded data removed]",
      "text/plain": [
       "<Figure size 980x350 with 4 Axes>"
      ]
     },
     "metadata": {},
     "output_type": "display_data"
    }
   ],
   "source": [
    "g = sns.catplot(\n",
    "    data=df_region_segment, x=\"Segment\", y=\"Profit\", col=\"Region\",\n",
    "    kind=\"bar\", height=3.5, aspect=.7, palette =\"muted\"\n",
    ")\n",
    "g.set_xticklabels(rotation=60)\n",
    "g.fig.subplots_adjust(top=0.9)\n",
    "g.fig.suptitle('Profits by Segments', y=1.05)\n",
    "plt.show()"
   ]
  },
  {
   "cell_type": "markdown",
   "id": "ea73ab5f",
   "metadata": {},
   "source": [
    "<font color = #2B65EC > Примечательно, что в центральном регионе Consumer сегмент принес наименьшую прибыль,     \n",
    "    в то время как на Западе, Востоке и Юге он был наиболее прибыльным."
   ]
  },
  {
   "cell_type": "markdown",
   "id": "0d22d327",
   "metadata": {},
   "source": [
    "**Точка роста:**    \n",
    "<font color = #2B65EC > Расширять линейки более прибыльных сегментов по регионам и не расширять - менее прибыльных, с учетом статистики по штатам и городам.     \n",
    "    Изучить причины низких прибылей от сегмента Consumer в центральном регионе."
   ]
  },
  {
   "cell_type": "markdown",
   "id": "dfb65d3b",
   "metadata": {},
   "source": [
    "### Прибыль по сегментам по штатам "
   ]
  },
  {
   "cell_type": "code",
   "execution_count": 35,
   "id": "86265d14",
   "metadata": {
    "scrolled": true
   },
   "outputs": [
    {
     "data": {
      "text/html": [
       "<div>\n",
       "<style scoped>\n",
       "    .dataframe tbody tr th:only-of-type {\n",
       "        vertical-align: middle;\n",
       "    }\n",
       "\n",
       "    .dataframe tbody tr th {\n",
       "        vertical-align: top;\n",
       "    }\n",
       "\n",
       "    .dataframe thead th {\n",
       "        text-align: right;\n",
       "    }\n",
       "</style>\n",
       "<table border=\"1\" class=\"dataframe\">\n",
       "  <thead>\n",
       "    <tr style=\"text-align: right;\">\n",
       "      <th></th>\n",
       "      <th>State</th>\n",
       "      <th>Segment</th>\n",
       "      <th>Profit</th>\n",
       "      <th>Quantity</th>\n",
       "    </tr>\n",
       "  </thead>\n",
       "  <tbody>\n",
       "    <tr>\n",
       "      <th>88</th>\n",
       "      <td>New York</td>\n",
       "      <td>Consumer</td>\n",
       "      <td>39640.5183</td>\n",
       "      <td>2404</td>\n",
       "    </tr>\n",
       "    <tr>\n",
       "      <th>9</th>\n",
       "      <td>California</td>\n",
       "      <td>Consumer</td>\n",
       "      <td>38374.0392</td>\n",
       "      <td>4081</td>\n",
       "    </tr>\n",
       "    <tr>\n",
       "      <th>10</th>\n",
       "      <td>California</td>\n",
       "      <td>Corporate</td>\n",
       "      <td>24367.8441</td>\n",
       "      <td>2291</td>\n",
       "    </tr>\n",
       "    <tr>\n",
       "      <th>131</th>\n",
       "      <td>Washington</td>\n",
       "      <td>Consumer</td>\n",
       "      <td>19817.3052</td>\n",
       "      <td>990</td>\n",
       "    </tr>\n",
       "    <tr>\n",
       "      <th>90</th>\n",
       "      <td>New York</td>\n",
       "      <td>Home Office</td>\n",
       "      <td>17873.4822</td>\n",
       "      <td>625</td>\n",
       "    </tr>\n",
       "  </tbody>\n",
       "</table>\n",
       "</div>"
      ],
      "text/plain": [
       "          State      Segment      Profit  Quantity\n",
       "88     New York     Consumer  39640.5183      2404\n",
       "9    California     Consumer  38374.0392      4081\n",
       "10   California    Corporate  24367.8441      2291\n",
       "131  Washington     Consumer  19817.3052       990\n",
       "90     New York  Home Office  17873.4822       625"
      ]
     },
     "execution_count": 35,
     "metadata": {},
     "output_type": "execute_result"
    }
   ],
   "source": [
    "#группирую с учетом региона и штата\n",
    "df_state_segment = df \\\n",
    "    .groupby(['State','Segment'], as_index = False) \\\n",
    "    .agg({'Profit':'sum', 'Quantity':'sum'}) \\\n",
    "    .sort_values(['Profit'], ascending = False)\n",
    "df_state_segment.head()"
   ]
  },
  {
   "cell_type": "markdown",
   "id": "9179f842",
   "metadata": {},
   "source": [
    "#### Cамые прибыльные сегменты по штатам: <a class=\"anchor\" id=\"profit-segments-states-bullet\"></a>"
   ]
  },
  {
   "cell_type": "code",
   "execution_count": 36,
   "id": "210194a3",
   "metadata": {
    "scrolled": false
   },
   "outputs": [
    {
     "data": {
      "text/html": [
       "<div>\n",
       "<style scoped>\n",
       "    .dataframe tbody tr th:only-of-type {\n",
       "        vertical-align: middle;\n",
       "    }\n",
       "\n",
       "    .dataframe tbody tr th {\n",
       "        vertical-align: top;\n",
       "    }\n",
       "\n",
       "    .dataframe thead th {\n",
       "        text-align: right;\n",
       "    }\n",
       "</style>\n",
       "<table border=\"1\" class=\"dataframe\">\n",
       "  <thead>\n",
       "    <tr style=\"text-align: right;\">\n",
       "      <th></th>\n",
       "      <th>State</th>\n",
       "      <th>Segment</th>\n",
       "      <th>Profit</th>\n",
       "      <th>Quantity</th>\n",
       "    </tr>\n",
       "  </thead>\n",
       "  <tbody>\n",
       "    <tr>\n",
       "      <th>110</th>\n",
       "      <td>Rhode Island</td>\n",
       "      <td>Home Office</td>\n",
       "      <td>5519.8329</td>\n",
       "      <td>81</td>\n",
       "    </tr>\n",
       "    <tr>\n",
       "      <th>78</th>\n",
       "      <td>Nevada</td>\n",
       "      <td>Home Office</td>\n",
       "      <td>1806.9133</td>\n",
       "      <td>30</td>\n",
       "    </tr>\n",
       "    <tr>\n",
       "      <th>72</th>\n",
       "      <td>Montana</td>\n",
       "      <td>Home Office</td>\n",
       "      <td>1542.8201</td>\n",
       "      <td>32</td>\n",
       "    </tr>\n",
       "    <tr>\n",
       "      <th>81</th>\n",
       "      <td>New Hampshire</td>\n",
       "      <td>Home Office</td>\n",
       "      <td>1009.7256</td>\n",
       "      <td>59</td>\n",
       "    </tr>\n",
       "    <tr>\n",
       "      <th>40</th>\n",
       "      <td>Iowa</td>\n",
       "      <td>Home Office</td>\n",
       "      <td>469.8738</td>\n",
       "      <td>26</td>\n",
       "    </tr>\n",
       "    <tr>\n",
       "      <th>87</th>\n",
       "      <td>New Mexico</td>\n",
       "      <td>Home Office</td>\n",
       "      <td>457.1837</td>\n",
       "      <td>53</td>\n",
       "    </tr>\n",
       "    <tr>\n",
       "      <th>43</th>\n",
       "      <td>Kansas</td>\n",
       "      <td>Home Office</td>\n",
       "      <td>286.5816</td>\n",
       "      <td>22</td>\n",
       "    </tr>\n",
       "    <tr>\n",
       "      <th>135</th>\n",
       "      <td>West Virginia</td>\n",
       "      <td>Home Office</td>\n",
       "      <td>262.8752</td>\n",
       "      <td>15</td>\n",
       "    </tr>\n",
       "    <tr>\n",
       "      <th>139</th>\n",
       "      <td>Wyoming</td>\n",
       "      <td>Home Office</td>\n",
       "      <td>100.1960</td>\n",
       "      <td>4</td>\n",
       "    </tr>\n",
       "    <tr>\n",
       "      <th>36</th>\n",
       "      <td>Indiana</td>\n",
       "      <td>Corporate</td>\n",
       "      <td>12293.7208</td>\n",
       "      <td>154</td>\n",
       "    </tr>\n",
       "    <tr>\n",
       "      <th>83</th>\n",
       "      <td>New Jersey</td>\n",
       "      <td>Corporate</td>\n",
       "      <td>5170.4885</td>\n",
       "      <td>182</td>\n",
       "    </tr>\n",
       "    <tr>\n",
       "      <th>1</th>\n",
       "      <td>Alabama</td>\n",
       "      <td>Corporate</td>\n",
       "      <td>3648.3846</td>\n",
       "      <td>130</td>\n",
       "    </tr>\n",
       "    <tr>\n",
       "      <th>68</th>\n",
       "      <td>Missouri</td>\n",
       "      <td>Corporate</td>\n",
       "      <td>2904.9968</td>\n",
       "      <td>63</td>\n",
       "    </tr>\n",
       "    <tr>\n",
       "      <th>126</th>\n",
       "      <td>Vermont</td>\n",
       "      <td>Corporate</td>\n",
       "      <td>1533.2273</td>\n",
       "      <td>33</td>\n",
       "    </tr>\n",
       "    <tr>\n",
       "      <th>30</th>\n",
       "      <td>Idaho</td>\n",
       "      <td>Corporate</td>\n",
       "      <td>517.0034</td>\n",
       "      <td>27</td>\n",
       "    </tr>\n",
       "    <tr>\n",
       "      <th>50</th>\n",
       "      <td>Maine</td>\n",
       "      <td>Corporate</td>\n",
       "      <td>422.2204</td>\n",
       "      <td>29</td>\n",
       "    </tr>\n",
       "    <tr>\n",
       "      <th>115</th>\n",
       "      <td>South Dakota</td>\n",
       "      <td>Corporate</td>\n",
       "      <td>378.6902</td>\n",
       "      <td>32</td>\n",
       "    </tr>\n",
       "    <tr>\n",
       "      <th>103</th>\n",
       "      <td>Oregon</td>\n",
       "      <td>Corporate</td>\n",
       "      <td>180.7439</td>\n",
       "      <td>164</td>\n",
       "    </tr>\n",
       "    <tr>\n",
       "      <th>88</th>\n",
       "      <td>New York</td>\n",
       "      <td>Consumer</td>\n",
       "      <td>39640.5183</td>\n",
       "      <td>2404</td>\n",
       "    </tr>\n",
       "    <tr>\n",
       "      <th>9</th>\n",
       "      <td>California</td>\n",
       "      <td>Consumer</td>\n",
       "      <td>38374.0392</td>\n",
       "      <td>4081</td>\n",
       "    </tr>\n",
       "    <tr>\n",
       "      <th>131</th>\n",
       "      <td>Washington</td>\n",
       "      <td>Consumer</td>\n",
       "      <td>19817.3052</td>\n",
       "      <td>990</td>\n",
       "    </tr>\n",
       "    <tr>\n",
       "      <th>58</th>\n",
       "      <td>Michigan</td>\n",
       "      <td>Consumer</td>\n",
       "      <td>12950.5232</td>\n",
       "      <td>494</td>\n",
       "    </tr>\n",
       "    <tr>\n",
       "      <th>128</th>\n",
       "      <td>Virginia</td>\n",
       "      <td>Consumer</td>\n",
       "      <td>9526.8628</td>\n",
       "      <td>473</td>\n",
       "    </tr>\n",
       "    <tr>\n",
       "      <th>26</th>\n",
       "      <td>Georgia</td>\n",
       "      <td>Consumer</td>\n",
       "      <td>8035.2254</td>\n",
       "      <td>349</td>\n",
       "    </tr>\n",
       "    <tr>\n",
       "      <th>61</th>\n",
       "      <td>Minnesota</td>\n",
       "      <td>Consumer</td>\n",
       "      <td>7503.1089</td>\n",
       "      <td>192</td>\n",
       "    </tr>\n",
       "    <tr>\n",
       "      <th>18</th>\n",
       "      <td>Delaware</td>\n",
       "      <td>Consumer</td>\n",
       "      <td>6894.9006</td>\n",
       "      <td>186</td>\n",
       "    </tr>\n",
       "    <tr>\n",
       "      <th>44</th>\n",
       "      <td>Kentucky</td>\n",
       "      <td>Consumer</td>\n",
       "      <td>6663.8398</td>\n",
       "      <td>261</td>\n",
       "    </tr>\n",
       "    <tr>\n",
       "      <th>136</th>\n",
       "      <td>Wisconsin</td>\n",
       "      <td>Consumer</td>\n",
       "      <td>3451.8645</td>\n",
       "      <td>140</td>\n",
       "    </tr>\n",
       "    <tr>\n",
       "      <th>52</th>\n",
       "      <td>Maryland</td>\n",
       "      <td>Consumer</td>\n",
       "      <td>3271.5449</td>\n",
       "      <td>175</td>\n",
       "    </tr>\n",
       "    <tr>\n",
       "      <th>6</th>\n",
       "      <td>Arkansas</td>\n",
       "      <td>Consumer</td>\n",
       "      <td>3152.8321</td>\n",
       "      <td>148</td>\n",
       "    </tr>\n",
       "    <tr>\n",
       "      <th>99</th>\n",
       "      <td>Oklahoma</td>\n",
       "      <td>Consumer</td>\n",
       "      <td>3021.8161</td>\n",
       "      <td>132</td>\n",
       "    </tr>\n",
       "    <tr>\n",
       "      <th>55</th>\n",
       "      <td>Massachusetts</td>\n",
       "      <td>Consumer</td>\n",
       "      <td>2691.9009</td>\n",
       "      <td>209</td>\n",
       "    </tr>\n",
       "    <tr>\n",
       "      <th>64</th>\n",
       "      <td>Mississippi</td>\n",
       "      <td>Consumer</td>\n",
       "      <td>1884.5524</td>\n",
       "      <td>117</td>\n",
       "    </tr>\n",
       "    <tr>\n",
       "      <th>73</th>\n",
       "      <td>Nebraska</td>\n",
       "      <td>Consumer</td>\n",
       "      <td>1603.5749</td>\n",
       "      <td>71</td>\n",
       "    </tr>\n",
       "    <tr>\n",
       "      <th>122</th>\n",
       "      <td>Utah</td>\n",
       "      <td>Consumer</td>\n",
       "      <td>1541.5586</td>\n",
       "      <td>125</td>\n",
       "    </tr>\n",
       "    <tr>\n",
       "      <th>15</th>\n",
       "      <td>Connecticut</td>\n",
       "      <td>Consumer</td>\n",
       "      <td>1510.3508</td>\n",
       "      <td>149</td>\n",
       "    </tr>\n",
       "    <tr>\n",
       "      <th>47</th>\n",
       "      <td>Louisiana</td>\n",
       "      <td>Consumer</td>\n",
       "      <td>1344.0039</td>\n",
       "      <td>88</td>\n",
       "    </tr>\n",
       "    <tr>\n",
       "      <th>111</th>\n",
       "      <td>South Carolina</td>\n",
       "      <td>Consumer</td>\n",
       "      <td>1012.0717</td>\n",
       "      <td>85</td>\n",
       "    </tr>\n",
       "    <tr>\n",
       "      <th>21</th>\n",
       "      <td>District of Columbia</td>\n",
       "      <td>Consumer</td>\n",
       "      <td>1011.2965</td>\n",
       "      <td>24</td>\n",
       "    </tr>\n",
       "    <tr>\n",
       "      <th>94</th>\n",
       "      <td>North Dakota</td>\n",
       "      <td>Consumer</td>\n",
       "      <td>216.5907</td>\n",
       "      <td>24</td>\n",
       "    </tr>\n",
       "  </tbody>\n",
       "</table>\n",
       "</div>"
      ],
      "text/plain": [
       "                    State      Segment      Profit  Quantity\n",
       "110          Rhode Island  Home Office   5519.8329        81\n",
       "78                 Nevada  Home Office   1806.9133        30\n",
       "72                Montana  Home Office   1542.8201        32\n",
       "81          New Hampshire  Home Office   1009.7256        59\n",
       "40                   Iowa  Home Office    469.8738        26\n",
       "87             New Mexico  Home Office    457.1837        53\n",
       "43                 Kansas  Home Office    286.5816        22\n",
       "135         West Virginia  Home Office    262.8752        15\n",
       "139               Wyoming  Home Office    100.1960         4\n",
       "36                Indiana    Corporate  12293.7208       154\n",
       "83             New Jersey    Corporate   5170.4885       182\n",
       "1                 Alabama    Corporate   3648.3846       130\n",
       "68               Missouri    Corporate   2904.9968        63\n",
       "126               Vermont    Corporate   1533.2273        33\n",
       "30                  Idaho    Corporate    517.0034        27\n",
       "50                  Maine    Corporate    422.2204        29\n",
       "115          South Dakota    Corporate    378.6902        32\n",
       "103                Oregon    Corporate    180.7439       164\n",
       "88               New York     Consumer  39640.5183      2404\n",
       "9              California     Consumer  38374.0392      4081\n",
       "131            Washington     Consumer  19817.3052       990\n",
       "58               Michigan     Consumer  12950.5232       494\n",
       "128              Virginia     Consumer   9526.8628       473\n",
       "26                Georgia     Consumer   8035.2254       349\n",
       "61              Minnesota     Consumer   7503.1089       192\n",
       "18               Delaware     Consumer   6894.9006       186\n",
       "44               Kentucky     Consumer   6663.8398       261\n",
       "136             Wisconsin     Consumer   3451.8645       140\n",
       "52               Maryland     Consumer   3271.5449       175\n",
       "6                Arkansas     Consumer   3152.8321       148\n",
       "99               Oklahoma     Consumer   3021.8161       132\n",
       "55          Massachusetts     Consumer   2691.9009       209\n",
       "64            Mississippi     Consumer   1884.5524       117\n",
       "73               Nebraska     Consumer   1603.5749        71\n",
       "122                  Utah     Consumer   1541.5586       125\n",
       "15            Connecticut     Consumer   1510.3508       149\n",
       "47              Louisiana     Consumer   1344.0039        88\n",
       "111        South Carolina     Consumer   1012.0717        85\n",
       "21   District of Columbia     Consumer   1011.2965        24\n",
       "94           North Dakota     Consumer    216.5907        24"
      ]
     },
     "execution_count": 36,
     "metadata": {},
     "output_type": "execute_result"
    }
   ],
   "source": [
    "#самые прибыльные сегменты в каждом штате (с положительной прибылью)\n",
    "df_top_state_segment = df_state_segment.loc[df_state_segment.groupby('State')['Profit'].idxmax()] \\\n",
    "    .query('Profit>0') \\\n",
    "    .sort_values(['Segment','Profit'], ascending = False)\n",
    "df_top_state_segment"
   ]
  },
  {
   "cell_type": "markdown",
   "id": "3a8915a4",
   "metadata": {},
   "source": [
    "<font color = #2B65EC > Выше показаны самые \"прибыльные\" сегменты для каждого штата. "
   ]
  },
  {
   "cell_type": "markdown",
   "id": "9faaccc6",
   "metadata": {},
   "source": [
    "**Точка роста:**    \n",
    "<font color = #2B65EC > Рассмотреть возможность расширения линейки товаров самых прибыльных по штатам сегментов. "
   ]
  },
  {
   "cell_type": "markdown",
   "id": "c65dd1fa",
   "metadata": {},
   "source": [
    "При этом в некоторых штатах даже самые прибыльные сегменты дают отрицательную прибыль:<a class=\"anchor\" id=\"profit-segments-badstates-bullet\"></a>"
   ]
  },
  {
   "cell_type": "code",
   "execution_count": 37,
   "id": "4fa54828",
   "metadata": {},
   "outputs": [
    {
     "data": {
      "text/html": [
       "<div>\n",
       "<style scoped>\n",
       "    .dataframe tbody tr th:only-of-type {\n",
       "        vertical-align: middle;\n",
       "    }\n",
       "\n",
       "    .dataframe tbody tr th {\n",
       "        vertical-align: top;\n",
       "    }\n",
       "\n",
       "    .dataframe thead th {\n",
       "        text-align: right;\n",
       "    }\n",
       "</style>\n",
       "<table border=\"1\" class=\"dataframe\">\n",
       "  <thead>\n",
       "    <tr style=\"text-align: right;\">\n",
       "      <th></th>\n",
       "      <th>State</th>\n",
       "      <th>Segment</th>\n",
       "      <th>Profit</th>\n",
       "      <th>Quantity</th>\n",
       "    </tr>\n",
       "  </thead>\n",
       "  <tbody>\n",
       "    <tr>\n",
       "      <th>98</th>\n",
       "      <td>Ohio</td>\n",
       "      <td>Home Office</td>\n",
       "      <td>-749.1280</td>\n",
       "      <td>360</td>\n",
       "    </tr>\n",
       "    <tr>\n",
       "      <th>93</th>\n",
       "      <td>North Carolina</td>\n",
       "      <td>Home Office</td>\n",
       "      <td>-990.4365</td>\n",
       "      <td>118</td>\n",
       "    </tr>\n",
       "    <tr>\n",
       "      <th>121</th>\n",
       "      <td>Texas</td>\n",
       "      <td>Home Office</td>\n",
       "      <td>-1084.6682</td>\n",
       "      <td>588</td>\n",
       "    </tr>\n",
       "    <tr>\n",
       "      <th>34</th>\n",
       "      <td>Illinois</td>\n",
       "      <td>Home Office</td>\n",
       "      <td>-2644.1119</td>\n",
       "      <td>350</td>\n",
       "    </tr>\n",
       "    <tr>\n",
       "      <th>107</th>\n",
       "      <td>Pennsylvania</td>\n",
       "      <td>Home Office</td>\n",
       "      <td>-3071.0510</td>\n",
       "      <td>410</td>\n",
       "    </tr>\n",
       "    <tr>\n",
       "      <th>13</th>\n",
       "      <td>Colorado</td>\n",
       "      <td>Corporate</td>\n",
       "      <td>-566.0659</td>\n",
       "      <td>200</td>\n",
       "    </tr>\n",
       "    <tr>\n",
       "      <th>117</th>\n",
       "      <td>Tennessee</td>\n",
       "      <td>Corporate</td>\n",
       "      <td>-640.0382</td>\n",
       "      <td>218</td>\n",
       "    </tr>\n",
       "    <tr>\n",
       "      <th>4</th>\n",
       "      <td>Arizona</td>\n",
       "      <td>Corporate</td>\n",
       "      <td>-788.9158</td>\n",
       "      <td>268</td>\n",
       "    </tr>\n",
       "    <tr>\n",
       "      <th>23</th>\n",
       "      <td>Florida</td>\n",
       "      <td>Consumer</td>\n",
       "      <td>-137.2829</td>\n",
       "      <td>596</td>\n",
       "    </tr>\n",
       "  </tbody>\n",
       "</table>\n",
       "</div>"
      ],
      "text/plain": [
       "              State      Segment     Profit  Quantity\n",
       "98             Ohio  Home Office  -749.1280       360\n",
       "93   North Carolina  Home Office  -990.4365       118\n",
       "121           Texas  Home Office -1084.6682       588\n",
       "34         Illinois  Home Office -2644.1119       350\n",
       "107    Pennsylvania  Home Office -3071.0510       410\n",
       "13         Colorado    Corporate  -566.0659       200\n",
       "117       Tennessee    Corporate  -640.0382       218\n",
       "4           Arizona    Corporate  -788.9158       268\n",
       "23          Florida     Consumer  -137.2829       596"
      ]
     },
     "execution_count": 37,
     "metadata": {},
     "output_type": "execute_result"
    }
   ],
   "source": [
    "#самые прибыльные сегменты в каждом штате (с отрицательной прибылью)\n",
    "df_top_state_segment_negative = df_state_segment.loc[df_state_segment.groupby('State')['Profit'].idxmax()] \\\n",
    "    .query('Profit<0') \\\n",
    "    .sort_values(['Segment','Profit'], ascending = False)\n",
    "df_top_state_segment_negative"
   ]
  },
  {
   "cell_type": "markdown",
   "id": "435de5f5",
   "metadata": {},
   "source": [
    "**Точка роста:**    \n",
    "<font color = #2B65EC > В штатах из списка выше даже самые \"прибыльные\" сегменты убыточны.       \n",
    "    Изучить причины убыточности продаж в этих штатах. Вожможно, сократить туда поставку товаров."
   ]
  },
  {
   "cell_type": "markdown",
   "id": "aa742585",
   "metadata": {},
   "source": [
    "### Прибыль по категориям по регионам <a class=\"anchor\" id=\"profit-categories-bullet\"></a>"
   ]
  },
  {
   "cell_type": "code",
   "execution_count": 38,
   "id": "422d0d5f",
   "metadata": {
    "scrolled": false
   },
   "outputs": [
    {
     "data": {
      "text/html": [
       "<div>\n",
       "<style scoped>\n",
       "    .dataframe tbody tr th:only-of-type {\n",
       "        vertical-align: middle;\n",
       "    }\n",
       "\n",
       "    .dataframe tbody tr th {\n",
       "        vertical-align: top;\n",
       "    }\n",
       "\n",
       "    .dataframe thead th {\n",
       "        text-align: right;\n",
       "    }\n",
       "</style>\n",
       "<table border=\"1\" class=\"dataframe\">\n",
       "  <thead>\n",
       "    <tr style=\"text-align: right;\">\n",
       "      <th></th>\n",
       "      <th>Region</th>\n",
       "      <th>Category</th>\n",
       "      <th>Profit</th>\n",
       "      <th>Quantity</th>\n",
       "    </tr>\n",
       "  </thead>\n",
       "  <tbody>\n",
       "    <tr>\n",
       "      <th>10</th>\n",
       "      <td>West</td>\n",
       "      <td>Office Supplies</td>\n",
       "      <td>52609.8490</td>\n",
       "      <td>7235</td>\n",
       "    </tr>\n",
       "    <tr>\n",
       "      <th>11</th>\n",
       "      <td>West</td>\n",
       "      <td>Technology</td>\n",
       "      <td>44303.6496</td>\n",
       "      <td>2335</td>\n",
       "    </tr>\n",
       "    <tr>\n",
       "      <th>9</th>\n",
       "      <td>West</td>\n",
       "      <td>Furniture</td>\n",
       "      <td>11504.9503</td>\n",
       "      <td>2696</td>\n",
       "    </tr>\n",
       "    <tr>\n",
       "      <th>8</th>\n",
       "      <td>South</td>\n",
       "      <td>Technology</td>\n",
       "      <td>19991.8314</td>\n",
       "      <td>1118</td>\n",
       "    </tr>\n",
       "    <tr>\n",
       "      <th>7</th>\n",
       "      <td>South</td>\n",
       "      <td>Office Supplies</td>\n",
       "      <td>19986.3928</td>\n",
       "      <td>3800</td>\n",
       "    </tr>\n",
       "    <tr>\n",
       "      <th>6</th>\n",
       "      <td>South</td>\n",
       "      <td>Furniture</td>\n",
       "      <td>6771.2061</td>\n",
       "      <td>1291</td>\n",
       "    </tr>\n",
       "    <tr>\n",
       "      <th>5</th>\n",
       "      <td>East</td>\n",
       "      <td>Technology</td>\n",
       "      <td>47462.0351</td>\n",
       "      <td>1942</td>\n",
       "    </tr>\n",
       "    <tr>\n",
       "      <th>4</th>\n",
       "      <td>East</td>\n",
       "      <td>Office Supplies</td>\n",
       "      <td>41014.5791</td>\n",
       "      <td>6462</td>\n",
       "    </tr>\n",
       "    <tr>\n",
       "      <th>3</th>\n",
       "      <td>East</td>\n",
       "      <td>Furniture</td>\n",
       "      <td>3046.1658</td>\n",
       "      <td>2214</td>\n",
       "    </tr>\n",
       "    <tr>\n",
       "      <th>2</th>\n",
       "      <td>Central</td>\n",
       "      <td>Technology</td>\n",
       "      <td>33697.4320</td>\n",
       "      <td>1544</td>\n",
       "    </tr>\n",
       "    <tr>\n",
       "      <th>1</th>\n",
       "      <td>Central</td>\n",
       "      <td>Office Supplies</td>\n",
       "      <td>8879.9799</td>\n",
       "      <td>5409</td>\n",
       "    </tr>\n",
       "    <tr>\n",
       "      <th>0</th>\n",
       "      <td>Central</td>\n",
       "      <td>Furniture</td>\n",
       "      <td>-2871.0494</td>\n",
       "      <td>1827</td>\n",
       "    </tr>\n",
       "  </tbody>\n",
       "</table>\n",
       "</div>"
      ],
      "text/plain": [
       "     Region         Category      Profit  Quantity\n",
       "10     West  Office Supplies  52609.8490      7235\n",
       "11     West       Technology  44303.6496      2335\n",
       "9      West        Furniture  11504.9503      2696\n",
       "8     South       Technology  19991.8314      1118\n",
       "7     South  Office Supplies  19986.3928      3800\n",
       "6     South        Furniture   6771.2061      1291\n",
       "5      East       Technology  47462.0351      1942\n",
       "4      East  Office Supplies  41014.5791      6462\n",
       "3      East        Furniture   3046.1658      2214\n",
       "2   Central       Technology  33697.4320      1544\n",
       "1   Central  Office Supplies   8879.9799      5409\n",
       "0   Central        Furniture  -2871.0494      1827"
      ]
     },
     "execution_count": 38,
     "metadata": {},
     "output_type": "execute_result"
    }
   ],
   "source": [
    "#группирую с учетом региона и категорий\n",
    "df_region_cat = df \\\n",
    "    .groupby(['Region','Category'], as_index = False) \\\n",
    "    .agg({'Profit':'sum', 'Quantity':'sum'}) \\\n",
    "    .sort_values(['Region','Profit'], ascending = False)\n",
    "df_region_cat"
   ]
  },
  {
   "cell_type": "code",
   "execution_count": 39,
   "id": "5a747593",
   "metadata": {
    "scrolled": true
   },
   "outputs": [
    {
     "data": {
      "image/png": "[encoded data removed]",
      "text/plain": [
       "<Figure size 980x350 with 4 Axes>"
      ]
     },
     "metadata": {},
     "output_type": "display_data"
    }
   ],
   "source": [
    "g = sns.catplot(\n",
    "    data=df_region_cat, x=\"Category\", y=\"Profit\", col=\"Region\",\n",
    "    kind=\"bar\", height=3.5, aspect=.7, palette = \"Set2\"\n",
    ")\n",
    "g.set_xticklabels(rotation=60)\n",
    "g.fig.subplots_adjust(top=0.9)\n",
    "g.fig.suptitle('Profit by categories', y=1.05)\n",
    "plt.show()"
   ]
  },
  {
   "cell_type": "markdown",
   "id": "a2cf2257",
   "metadata": {},
   "source": [
    "<font color = #2B65EC > Продажа Furniture по всем регионам принесла наименьшую прибыль, по центральному региону даже оказалась убыточной.    \n",
    "    На Западе наибольшую прибыль принесла продажа Office Supplies, во всех остальных регионах это были Technology."
   ]
  },
  {
   "cell_type": "markdown",
   "id": "a56502e9",
   "metadata": {},
   "source": [
    "**Точка роста:**     \n",
    "<font color = #2B65EC > Изучить причины низкой прибыльности категории Office Supplies в центральном регионе. Так как в других 3-х регионах она показывает примерно такие же хорошие результаты, как и Technology.    \n",
    "    Не расширять продажу категории Furniture, как наименее прибыльной. Изучить и доработать текущую стратегию по данной категории во всех регионах.    \n",
    "Расширять поставку более прибыльных категорий по регионам и не расширять - менее прибыльных, с учетом статистики по штатам и городам. \n",
    "    "
   ]
  },
  {
   "cell_type": "markdown",
   "id": "48fbecff",
   "metadata": {},
   "source": [
    "### Прибыль по подкатегориям по регионам<a class=\"anchor\" id=\"profit-subcategories-bullet\"></a>"
   ]
  },
  {
   "cell_type": "code",
   "execution_count": 40,
   "id": "3aad59b3",
   "metadata": {
    "scrolled": true
   },
   "outputs": [
    {
     "data": {
      "text/html": [
       "<div>\n",
       "<style scoped>\n",
       "    .dataframe tbody tr th:only-of-type {\n",
       "        vertical-align: middle;\n",
       "    }\n",
       "\n",
       "    .dataframe tbody tr th {\n",
       "        vertical-align: top;\n",
       "    }\n",
       "\n",
       "    .dataframe thead th {\n",
       "        text-align: right;\n",
       "    }\n",
       "</style>\n",
       "<table border=\"1\" class=\"dataframe\">\n",
       "  <thead>\n",
       "    <tr style=\"text-align: right;\">\n",
       "      <th></th>\n",
       "      <th>Region</th>\n",
       "      <th>Sub-Category</th>\n",
       "      <th>Profit</th>\n",
       "      <th>Quantity</th>\n",
       "    </tr>\n",
       "  </thead>\n",
       "  <tbody>\n",
       "    <tr>\n",
       "      <th>57</th>\n",
       "      <td>West</td>\n",
       "      <td>Copiers</td>\n",
       "      <td>19327.2351</td>\n",
       "      <td>88</td>\n",
       "    </tr>\n",
       "    <tr>\n",
       "      <th>51</th>\n",
       "      <td>West</td>\n",
       "      <td>Accessories</td>\n",
       "      <td>16484.5983</td>\n",
       "      <td>1032</td>\n",
       "    </tr>\n",
       "    <tr>\n",
       "      <th>54</th>\n",
       "      <td>West</td>\n",
       "      <td>Binders</td>\n",
       "      <td>16096.8016</td>\n",
       "      <td>1868</td>\n",
       "    </tr>\n",
       "    <tr>\n",
       "      <th>63</th>\n",
       "      <td>West</td>\n",
       "      <td>Paper</td>\n",
       "      <td>12119.2364</td>\n",
       "      <td>1702</td>\n",
       "    </tr>\n",
       "    <tr>\n",
       "      <th>64</th>\n",
       "      <td>West</td>\n",
       "      <td>Phones</td>\n",
       "      <td>9110.7426</td>\n",
       "      <td>1068</td>\n",
       "    </tr>\n",
       "  </tbody>\n",
       "</table>\n",
       "</div>"
      ],
      "text/plain": [
       "   Region Sub-Category      Profit  Quantity\n",
       "57   West      Copiers  19327.2351        88\n",
       "51   West  Accessories  16484.5983      1032\n",
       "54   West      Binders  16096.8016      1868\n",
       "63   West        Paper  12119.2364      1702\n",
       "64   West       Phones   9110.7426      1068"
      ]
     },
     "execution_count": 40,
     "metadata": {},
     "output_type": "execute_result"
    }
   ],
   "source": [
    "#группирую с учетом региона и Sub-категорий\n",
    "df_region_subcat = df \\\n",
    "    .groupby(['Region','Sub-Category'], as_index = False) \\\n",
    "    .agg({'Profit':'sum', 'Quantity':'sum'}) \\\n",
    "    .sort_values(['Region','Profit'], ascending = False)\n",
    "df_region_subcat.head()"
   ]
  },
  {
   "cell_type": "markdown",
   "id": "4cb79579",
   "metadata": {},
   "source": [
    "На основе данных о прибыли подкатегорий по регионам строю барплоты."
   ]
  },
  {
   "cell_type": "code",
   "execution_count": 41,
   "id": "e5cbd35a",
   "metadata": {
    "scrolled": false
   },
   "outputs": [
    {
     "data": {
      "image/png": "[encoded data removed]",
      "text/plain": [
       "<Figure size 1200x1000 with 4 Axes>"
      ]
     },
     "metadata": {},
     "output_type": "display_data"
    }
   ],
   "source": [
    "#создаю сетку 2 на 2\n",
    "fig, axs = plt.subplots(nrows=2, ncols=2, figsize=(12, 10))\n",
    "\n",
    "# список регионов\n",
    "regions = df_region_subcat.Region.unique()\n",
    "# строю барплот для каждого региона\n",
    "for region, ax in zip(regions, axs.flatten()):\n",
    "    sns.barplot(data=df_region_subcat.query(f'Region == \"{region}\"'),\n",
    "                x='Sub-Category',\n",
    "                y='Profit',\n",
    "                ci=None,\n",
    "                palette= \"vlag\",\n",
    "                ax=ax)\n",
    "    ax.set_title(f'{region} Region')\n",
    "    ax.set_xlabel('Sub-Category')\n",
    "    ax.set_ylabel('Profit')\n",
    "    ax.tick_params(axis='x', rotation=60)\n",
    "\n",
    "plt.tight_layout()\n",
    "plt.show()"
   ]
  },
  {
   "cell_type": "markdown",
   "id": "7bd945f3",
   "metadata": {},
   "source": [
    "На барплотах выше показаны прибыльные и убыточные подкатегории товаров по регионам. "
   ]
  },
  {
   "cell_type": "markdown",
   "id": "b8906656",
   "metadata": {},
   "source": [
    "<font color = #2B65EC > Cамые прибыльные подкатегории для каждого региона:"
   ]
  },
  {
   "cell_type": "code",
   "execution_count": 42,
   "id": "4f2711ca",
   "metadata": {
    "scrolled": false
   },
   "outputs": [
    {
     "data": {
      "text/html": [
       "<div>\n",
       "<style scoped>\n",
       "    .dataframe tbody tr th:only-of-type {\n",
       "        vertical-align: middle;\n",
       "    }\n",
       "\n",
       "    .dataframe tbody tr th {\n",
       "        vertical-align: top;\n",
       "    }\n",
       "\n",
       "    .dataframe thead th {\n",
       "        text-align: right;\n",
       "    }\n",
       "</style>\n",
       "<table border=\"1\" class=\"dataframe\">\n",
       "  <thead>\n",
       "    <tr style=\"text-align: right;\">\n",
       "      <th></th>\n",
       "      <th>Region</th>\n",
       "      <th>Sub-Category</th>\n",
       "      <th>Profit</th>\n",
       "      <th>Quantity</th>\n",
       "    </tr>\n",
       "  </thead>\n",
       "  <tbody>\n",
       "    <tr>\n",
       "      <th>6</th>\n",
       "      <td>Central</td>\n",
       "      <td>Copiers</td>\n",
       "      <td>15608.8413</td>\n",
       "      <td>49</td>\n",
       "    </tr>\n",
       "    <tr>\n",
       "      <th>23</th>\n",
       "      <td>East</td>\n",
       "      <td>Copiers</td>\n",
       "      <td>17022.8418</td>\n",
       "      <td>71</td>\n",
       "    </tr>\n",
       "    <tr>\n",
       "      <th>47</th>\n",
       "      <td>South</td>\n",
       "      <td>Phones</td>\n",
       "      <td>10767.2753</td>\n",
       "      <td>526</td>\n",
       "    </tr>\n",
       "    <tr>\n",
       "      <th>57</th>\n",
       "      <td>West</td>\n",
       "      <td>Copiers</td>\n",
       "      <td>19327.2351</td>\n",
       "      <td>88</td>\n",
       "    </tr>\n",
       "  </tbody>\n",
       "</table>\n",
       "</div>"
      ],
      "text/plain": [
       "     Region Sub-Category      Profit  Quantity\n",
       "6   Central      Copiers  15608.8413        49\n",
       "23     East      Copiers  17022.8418        71\n",
       "47    South       Phones  10767.2753       526\n",
       "57     West      Copiers  19327.2351        88"
      ]
     },
     "execution_count": 42,
     "metadata": {},
     "output_type": "execute_result"
    }
   ],
   "source": [
    "df_region_subcat.loc[df_region_subcat.groupby('Region')['Profit'].idxmax()]"
   ]
  },
  {
   "cell_type": "markdown",
   "id": "c00dcb6e",
   "metadata": {},
   "source": [
    "**Точка роста:**    \n",
    "    <font color = #2B65EC >Рассмотреть расширение товарных линеек по самым прибыльным подкатегориям регионов. "
   ]
  },
  {
   "cell_type": "markdown",
   "id": "0d183818",
   "metadata": {},
   "source": [
    "<font color = #2B65EC > Cамые убыточные  подкатегории для каждого региона:"
   ]
  },
  {
   "cell_type": "code",
   "execution_count": 43,
   "id": "f80e8d09",
   "metadata": {
    "scrolled": true
   },
   "outputs": [
    {
     "data": {
      "text/html": [
       "<div>\n",
       "<style scoped>\n",
       "    .dataframe tbody tr th:only-of-type {\n",
       "        vertical-align: middle;\n",
       "    }\n",
       "\n",
       "    .dataframe tbody tr th {\n",
       "        vertical-align: top;\n",
       "    }\n",
       "\n",
       "    .dataframe thead th {\n",
       "        text-align: right;\n",
       "    }\n",
       "</style>\n",
       "<table border=\"1\" class=\"dataframe\">\n",
       "  <thead>\n",
       "    <tr style=\"text-align: right;\">\n",
       "      <th></th>\n",
       "      <th>Region</th>\n",
       "      <th>Sub-Category</th>\n",
       "      <th>Profit</th>\n",
       "      <th>Quantity</th>\n",
       "    </tr>\n",
       "  </thead>\n",
       "  <tbody>\n",
       "    <tr>\n",
       "      <th>9</th>\n",
       "      <td>Central</td>\n",
       "      <td>Furnishings</td>\n",
       "      <td>-3906.2168</td>\n",
       "      <td>758</td>\n",
       "    </tr>\n",
       "    <tr>\n",
       "      <th>33</th>\n",
       "      <td>East</td>\n",
       "      <td>Tables</td>\n",
       "      <td>-11025.3801</td>\n",
       "      <td>271</td>\n",
       "    </tr>\n",
       "    <tr>\n",
       "      <th>50</th>\n",
       "      <td>South</td>\n",
       "      <td>Tables</td>\n",
       "      <td>-4623.0579</td>\n",
       "      <td>227</td>\n",
       "    </tr>\n",
       "    <tr>\n",
       "      <th>55</th>\n",
       "      <td>West</td>\n",
       "      <td>Bookcases</td>\n",
       "      <td>-1646.5117</td>\n",
       "      <td>306</td>\n",
       "    </tr>\n",
       "  </tbody>\n",
       "</table>\n",
       "</div>"
      ],
      "text/plain": [
       "     Region Sub-Category      Profit  Quantity\n",
       "9   Central  Furnishings  -3906.2168       758\n",
       "33     East       Tables -11025.3801       271\n",
       "50    South       Tables  -4623.0579       227\n",
       "55     West    Bookcases  -1646.5117       306"
      ]
     },
     "execution_count": 43,
     "metadata": {},
     "output_type": "execute_result"
    }
   ],
   "source": [
    "df_region_subcat.loc[df_region_subcat.groupby('Region')['Profit'].idxmin()]"
   ]
  },
  {
   "cell_type": "markdown",
   "id": "6d738224",
   "metadata": {},
   "source": [
    "<font color = #2B65EC > Для убыточных подкатегорий по регионам (Profit<0) посмотрим динамику во времени:"
   ]
  },
  {
   "cell_type": "code",
   "execution_count": 44,
   "id": "310aa32d",
   "metadata": {},
   "outputs": [],
   "source": [
    "#создаю колонку года заказа типа str (для отображения на графиках)\n",
    "df['Order_Year'] = pd.DatetimeIndex(df['Order_Date']).year.astype('str')  "
   ]
  },
  {
   "cell_type": "code",
   "execution_count": 45,
   "id": "c4a97c04",
   "metadata": {},
   "outputs": [],
   "source": [
    "#группирую с учетом региона и Sub-категорий и года\n",
    "df_region_subcat_year = df \\\n",
    "    .groupby(['Region','Sub-Category','Order_Year'], as_index = False) \\\n",
    "    .agg({'Profit':'sum'})"
   ]
  },
  {
   "cell_type": "code",
   "execution_count": 46,
   "id": "d1f8d94d",
   "metadata": {},
   "outputs": [
    {
     "data": {
      "image/png": "[encoded data removed]",
      "text/plain": [
       "<Figure size 1200x1000 with 4 Axes>"
      ]
     },
     "metadata": {},
     "output_type": "display_data"
    }
   ],
   "source": [
    "# задаю сетку 2 на 2\n",
    "fig, axs = plt.subplots(2, 2, figsize=(12, 10))\n",
    "\n",
    "#profit от даты заказа для Machines, Bookcases в West Region\n",
    "df_subset = pd.concat([df_region_subcat_year.loc[df_region_subcat_year['Sub-Category'] == 'Machines'],\n",
    "                       df_region_subcat_year.loc[df_region_subcat_year['Sub-Category'] == 'Bookcases']]) \\\n",
    "                    .query(\"Region == 'West'\")\n",
    "sns.lineplot(data=df_subset, x='Order_Year', y='Profit', hue='Sub-Category', ax=axs[0, 0])\n",
    "axs[0, 0].set_title('West Region')\n",
    "axs[0, 0].set_xlabel(\"\")\n",
    "\n",
    "#profit от даты заказа для Machines, Tables в South Region\n",
    "df_subset1 = pd.concat([df_region_subcat_year.loc[df_region_subcat_year['Sub-Category'] == 'Machines'],\n",
    "                       df_region_subcat_year.loc[df_region_subcat_year['Sub-Category'] == 'Tables']]) \\\n",
    "                    .query(\"Region == 'South'\")\n",
    "sns.lineplot(data=df_subset1, x='Order_Year', y='Profit', hue='Sub-Category', ax=axs[0, 1])\n",
    "axs[0, 1].set_title('South Region')\n",
    "axs[0, 1].set_xlabel(\"\")\n",
    "\n",
    "#profit от даты заказа для Supplies, Bookcases, Tables в East Region\n",
    "df_subset2 = pd.concat([df_region_subcat_year.loc[df_region_subcat_year['Sub-Category'] == 'Supplies'],\n",
    "                       df_region_subcat_year.loc[df_region_subcat_year['Sub-Category'] == 'Tables'], \n",
    "                       df_region_subcat_year.loc[df_region_subcat_year['Sub-Category'] == 'Bookcases']\n",
    "                       ]) \\\n",
    "                    .query(\"Region == 'East'\")\n",
    "sns.lineplot(data=df_subset2, x='Order_Year', y='Profit', hue='Sub-Category', ax=axs[1, 0])\n",
    "axs[1, 0].set_title('East Region')\n",
    "axs[1, 0].set_xlabel(\"\")\n",
    "\n",
    "#profit от даты заказа для Fasteners, Supplies, Binders, Machines, Bookcases, Appliances,Tables и Furnishings в Central Region\n",
    "df_subset3 = pd.concat([df_region_subcat_year.loc[df_region_subcat_year['Sub-Category'] == 'Supplies'],\n",
    "                        df_region_subcat_year.loc[df_region_subcat_year['Sub-Category'] == 'Tables'], \n",
    "                        df_region_subcat_year.loc[df_region_subcat_year['Sub-Category'] == 'Bookcases'],\n",
    "                        df_region_subcat_year.loc[df_region_subcat_year['Sub-Category'] == 'Fasteners'],\n",
    "                        df_region_subcat_year.loc[df_region_subcat_year['Sub-Category'] == 'Binders'],\n",
    "                        df_region_subcat_year.loc[df_region_subcat_year['Sub-Category'] == 'Machines'],\n",
    "                        df_region_subcat_year.loc[df_region_subcat_year['Sub-Category'] == 'Appliances'],\n",
    "                        df_region_subcat_year.loc[df_region_subcat_year['Sub-Category'] == 'Furnishings']                        \n",
    "                       ]) \\\n",
    "                    .query(\"Region == 'Central'\")\n",
    "sns.lineplot(data=df_subset3, x='Order_Year', y='Profit', hue='Sub-Category', ax=axs[1, 1])\n",
    "axs[1, 1].set_title('Central Region')\n",
    "axs[1, 1].set_xlabel(\"\")\n",
    "\n",
    "plt.tight_layout()\n",
    "plt.show()"
   ]
  },
  {
   "cell_type": "markdown",
   "id": "9b866ff5",
   "metadata": {},
   "source": [
    "Среди рассмотренных зависимостей положительный рост демонстрирует прибыль от продажи следующих подкатегорий:    \n",
    "* Bookcases в East Region,    \n",
    "* Machines,Fasteners и Supplies в Central Region.    \n",
    "\n",
    "Прибыль от продаж остальных рассмотренных подкатегорий либо падает к 2017 году, либо отрицательна.    \n",
    "**Точка роста:**     \n",
    "<font color = #2B65EC > Поднять вопрос о сокращении в регионах продаж категорий, прибыль которых там стабильно падает.     \n",
    "    Найти причину падения продаж Binders в Central Region и Machines в South Region.\n",
    "   "
   ]
  },
  {
   "cell_type": "markdown",
   "id": "c7db029e",
   "metadata": {},
   "source": [
    "### Время доставки <a class=\"anchor\" id=\"delivery-bullet\"></a>"
   ]
  },
  {
   "cell_type": "code",
   "execution_count": 47,
   "id": "ebf67c58",
   "metadata": {
    "scrolled": true
   },
   "outputs": [
    {
     "data": {
      "text/html": [
       "<div>\n",
       "<style scoped>\n",
       "    .dataframe tbody tr th:only-of-type {\n",
       "        vertical-align: middle;\n",
       "    }\n",
       "\n",
       "    .dataframe tbody tr th {\n",
       "        vertical-align: top;\n",
       "    }\n",
       "\n",
       "    .dataframe thead th {\n",
       "        text-align: right;\n",
       "    }\n",
       "</style>\n",
       "<table border=\"1\" class=\"dataframe\">\n",
       "  <thead>\n",
       "    <tr style=\"text-align: right;\">\n",
       "      <th></th>\n",
       "      <th>Avg_Delivery_Time</th>\n",
       "    </tr>\n",
       "    <tr>\n",
       "      <th>Ship_Mode</th>\n",
       "      <th></th>\n",
       "    </tr>\n",
       "  </thead>\n",
       "  <tbody>\n",
       "    <tr>\n",
       "      <th>Same Day</th>\n",
       "      <td>0 days 01:03:38.784530386</td>\n",
       "    </tr>\n",
       "    <tr>\n",
       "      <th>First Class</th>\n",
       "      <td>2 days 04:23:05.695708712</td>\n",
       "    </tr>\n",
       "    <tr>\n",
       "      <th>Second Class</th>\n",
       "      <td>3 days 05:42:47.197943444</td>\n",
       "    </tr>\n",
       "    <tr>\n",
       "      <th>Standard Class</th>\n",
       "      <td>5 days 00:09:24.611260053</td>\n",
       "    </tr>\n",
       "  </tbody>\n",
       "</table>\n",
       "</div>"
      ],
      "text/plain": [
       "                       Avg_Delivery_Time\n",
       "Ship_Mode                               \n",
       "Same Day       0 days 01:03:38.784530386\n",
       "First Class    2 days 04:23:05.695708712\n",
       "Second Class   3 days 05:42:47.197943444\n",
       "Standard Class 5 days 00:09:24.611260053"
      ]
     },
     "execution_count": 47,
     "metadata": {},
     "output_type": "execute_result"
    }
   ],
   "source": [
    "#агрегирую по режимам доставки\n",
    "df_delivery_mode = df.groupby(['Ship_Mode']) \\\n",
    "    .agg({'Delivery_Time':'mean'}) \\\n",
    "    .rename(columns={'Delivery_Time':'Avg_Delivery_Time'}) \\\n",
    "    .sort_values('Avg_Delivery_Time', ascending = True)\n",
    "df_delivery_mode"
   ]
  },
  {
   "cell_type": "markdown",
   "id": "5fcaa974",
   "metadata": {},
   "source": [
    "<font color = #2B65EC >Выше показаны средние времена доставки для разных Ship Modes по всей стране."
   ]
  },
  {
   "cell_type": "markdown",
   "id": "fab23d3a",
   "metadata": {},
   "source": [
    "#### Среднее время доставки в зависимости от города и тарифа"
   ]
  },
  {
   "cell_type": "code",
   "execution_count": 48,
   "id": "88bb2c30",
   "metadata": {
    "scrolled": false
   },
   "outputs": [
    {
     "data": {
      "text/html": [
       "<div>\n",
       "<style scoped>\n",
       "    .dataframe tbody tr th:only-of-type {\n",
       "        vertical-align: middle;\n",
       "    }\n",
       "\n",
       "    .dataframe tbody tr th {\n",
       "        vertical-align: top;\n",
       "    }\n",
       "\n",
       "    .dataframe thead th {\n",
       "        text-align: right;\n",
       "    }\n",
       "</style>\n",
       "<table border=\"1\" class=\"dataframe\">\n",
       "  <thead>\n",
       "    <tr style=\"text-align: right;\">\n",
       "      <th></th>\n",
       "      <th>Region</th>\n",
       "      <th>State</th>\n",
       "      <th>City</th>\n",
       "      <th>Ship_Mode</th>\n",
       "      <th>Avg_Delivery_Time</th>\n",
       "      <th>Avg_Delivery_Days</th>\n",
       "    </tr>\n",
       "  </thead>\n",
       "  <tbody>\n",
       "    <tr>\n",
       "      <th>1015</th>\n",
       "      <td>West</td>\n",
       "      <td>California</td>\n",
       "      <td>Oceanside</td>\n",
       "      <td>Same Day</td>\n",
       "      <td>0 days</td>\n",
       "      <td>0.0</td>\n",
       "    </tr>\n",
       "    <tr>\n",
       "      <th>561</th>\n",
       "      <td>East</td>\n",
       "      <td>Ohio</td>\n",
       "      <td>Mentor</td>\n",
       "      <td>Same Day</td>\n",
       "      <td>0 days</td>\n",
       "      <td>0.0</td>\n",
       "    </tr>\n",
       "    <tr>\n",
       "      <th>1019</th>\n",
       "      <td>West</td>\n",
       "      <td>California</td>\n",
       "      <td>Oxnard</td>\n",
       "      <td>Same Day</td>\n",
       "      <td>0 days</td>\n",
       "      <td>0.0</td>\n",
       "    </tr>\n",
       "    <tr>\n",
       "      <th>1137</th>\n",
       "      <td>West</td>\n",
       "      <td>Montana</td>\n",
       "      <td>Billings</td>\n",
       "      <td>Same Day</td>\n",
       "      <td>0 days</td>\n",
       "      <td>0.0</td>\n",
       "    </tr>\n",
       "    <tr>\n",
       "      <th>714</th>\n",
       "      <td>South</td>\n",
       "      <td>Georgia</td>\n",
       "      <td>Atlanta</td>\n",
       "      <td>Same Day</td>\n",
       "      <td>0 days</td>\n",
       "      <td>0.0</td>\n",
       "    </tr>\n",
       "  </tbody>\n",
       "</table>\n",
       "</div>"
      ],
      "text/plain": [
       "     Region       State       City Ship_Mode Avg_Delivery_Time  \\\n",
       "1015   West  California  Oceanside  Same Day            0 days   \n",
       "561    East        Ohio     Mentor  Same Day            0 days   \n",
       "1019   West  California     Oxnard  Same Day            0 days   \n",
       "1137   West     Montana   Billings  Same Day            0 days   \n",
       "714   South     Georgia    Atlanta  Same Day            0 days   \n",
       "\n",
       "      Avg_Delivery_Days  \n",
       "1015                0.0  \n",
       "561                 0.0  \n",
       "1019                0.0  \n",
       "1137                0.0  \n",
       "714                 0.0  "
      ]
     },
     "execution_count": 48,
     "metadata": {},
     "output_type": "execute_result"
    }
   ],
   "source": [
    "#группирую с учетом геогр. положения и режима доставки\n",
    "df_delivery = df \\\n",
    "    .groupby(['Region','State','City','Ship_Mode'], as_index = False) \\\n",
    "    .agg({'Delivery_Time':'mean'}) \\\n",
    "    .rename(columns={'Delivery_Time':'Avg_Delivery_Time'}) \\\n",
    "    .sort_values(['Avg_Delivery_Time'], ascending = True)\n",
    "#создаю столбец числа дней, которое шла доставка\n",
    "df_delivery['Avg_Delivery_Days'] = df_delivery['Avg_Delivery_Time'].dt.total_seconds()/(60*60*24)\n",
    "df_delivery.head()"
   ]
  },
  {
   "cell_type": "markdown",
   "id": "1d5425c7",
   "metadata": {},
   "source": [
    "Действительно ли заявленные режимы доставки предлагают последовательное увеличение скорости с тарифом? Какие есть отклонения? "
   ]
  },
  {
   "cell_type": "code",
   "execution_count": 59,
   "id": "da9d3b01",
   "metadata": {
    "scrolled": true
   },
   "outputs": [
    {
     "data": {
      "image/png": "[encoded data removed]",
      "text/plain": [
       "<Figure size 525x350 with 1 Axes>"
      ]
     },
     "metadata": {},
     "output_type": "display_data"
    }
   ],
   "source": [
    "#строю график в разделении по тарифам, где каждая точка - средняя длительность доставки по городу\n",
    "g = sns.catplot(data=df_delivery, x=\"Ship_Mode\", y=\"Avg_Delivery_Days\", height=3.5, aspect=1.5, palette= 'magma') \\\n",
    "    .set(title='Avg delivery time in cities for different ship modes')\n",
    "g.set_axis_labels(\"\", \"Delivery, Days\")\n",
    "plt.show()"
   ]
  },
  {
   "cell_type": "markdown",
   "id": "aca02c2c",
   "metadata": {},
   "source": [
    "Городам, в которых самая долгая доставка по тарифу, соответсвуют верхние точки каждого цвета."
   ]
  },
  {
   "cell_type": "markdown",
   "id": "2746a5c0",
   "metadata": {},
   "source": [
    "Найдем список городов, в которых самая долгая доставка  по стандартному тарифу."
   ]
  },
  {
   "cell_type": "code",
   "execution_count": 50,
   "id": "2c3a16aa",
   "metadata": {
    "scrolled": true
   },
   "outputs": [],
   "source": [
    "#агрегирую по положению для стандартного режима доставки\n",
    "df_delivery_standart = df.query('Ship_Mode == \"Standard Class\"') \\\n",
    "    .groupby(['Region','State','City'], as_index = False) \\\n",
    "    .agg({'Delivery_Time':'mean'}) \\\n",
    "    .rename(columns={'Delivery_Time':'Avg_Delivery_Time'}) "
   ]
  },
  {
   "cell_type": "code",
   "execution_count": 51,
   "id": "5c159fb7",
   "metadata": {
    "scrolled": true
   },
   "outputs": [
    {
     "name": "stdout",
     "output_type": "stream",
     "text": [
      "\u001b[34mВ то время как среднее время стандартного режима доставки - 5 дней, в зависимости от города оно составляет от 4 до 7 дней.\n"
     ]
    }
   ],
   "source": [
    "print(f'{Fore.BLUE}В то время как среднее время стандартного режима доставки - {round(df_delivery_standart.Avg_Delivery_Time.dt.days.mean())} дней, в зависимости от города оно составляет от {round(df_delivery_standart.Avg_Delivery_Time.dt.days.min())} до {round(df_delivery_standart.Avg_Delivery_Time.dt.days.max())} дней.')"
   ]
  },
  {
   "cell_type": "markdown",
   "id": "fb717f85",
   "metadata": {},
   "source": [
    "#### Список городов, где среднее время стандартной доставки в которых достигает 7 дней:<a class=\"anchor\" id=\"delivery-slow-bullet\"></a>"
   ]
  },
  {
   "cell_type": "code",
   "execution_count": 52,
   "id": "82fa0813",
   "metadata": {
    "scrolled": true
   },
   "outputs": [
    {
     "data": {
      "text/html": [
       "<div>\n",
       "<style scoped>\n",
       "    .dataframe tbody tr th:only-of-type {\n",
       "        vertical-align: middle;\n",
       "    }\n",
       "\n",
       "    .dataframe tbody tr th {\n",
       "        vertical-align: top;\n",
       "    }\n",
       "\n",
       "    .dataframe thead th {\n",
       "        text-align: right;\n",
       "    }\n",
       "</style>\n",
       "<table border=\"1\" class=\"dataframe\">\n",
       "  <thead>\n",
       "    <tr style=\"text-align: right;\">\n",
       "      <th></th>\n",
       "      <th>Region</th>\n",
       "      <th>State</th>\n",
       "      <th>City</th>\n",
       "    </tr>\n",
       "  </thead>\n",
       "  <tbody>\n",
       "    <tr>\n",
       "      <th>20</th>\n",
       "      <td>Central</td>\n",
       "      <td>Illinois</td>\n",
       "      <td>Oswego</td>\n",
       "    </tr>\n",
       "    <tr>\n",
       "      <th>52</th>\n",
       "      <td>Central</td>\n",
       "      <td>Michigan</td>\n",
       "      <td>Dearborn Heights</td>\n",
       "    </tr>\n",
       "    <tr>\n",
       "      <th>72</th>\n",
       "      <td>Central</td>\n",
       "      <td>Minnesota</td>\n",
       "      <td>Lakeville</td>\n",
       "    </tr>\n",
       "    <tr>\n",
       "      <th>89</th>\n",
       "      <td>Central</td>\n",
       "      <td>Nebraska</td>\n",
       "      <td>Norfolk</td>\n",
       "    </tr>\n",
       "    <tr>\n",
       "      <th>94</th>\n",
       "      <td>Central</td>\n",
       "      <td>Oklahoma</td>\n",
       "      <td>Lawton</td>\n",
       "    </tr>\n",
       "    <tr>\n",
       "      <th>110</th>\n",
       "      <td>Central</td>\n",
       "      <td>Texas</td>\n",
       "      <td>College Station</td>\n",
       "    </tr>\n",
       "    <tr>\n",
       "      <th>120</th>\n",
       "      <td>Central</td>\n",
       "      <td>Texas</td>\n",
       "      <td>Haltom City</td>\n",
       "    </tr>\n",
       "    <tr>\n",
       "      <th>153</th>\n",
       "      <td>Central</td>\n",
       "      <td>Wisconsin</td>\n",
       "      <td>Waukesha</td>\n",
       "    </tr>\n",
       "    <tr>\n",
       "      <th>156</th>\n",
       "      <td>East</td>\n",
       "      <td>Connecticut</td>\n",
       "      <td>Danbury</td>\n",
       "    </tr>\n",
       "    <tr>\n",
       "      <th>191</th>\n",
       "      <td>East</td>\n",
       "      <td>New Hampshire</td>\n",
       "      <td>Nashua</td>\n",
       "    </tr>\n",
       "    <tr>\n",
       "      <th>263</th>\n",
       "      <td>South</td>\n",
       "      <td>Arkansas</td>\n",
       "      <td>Conway</td>\n",
       "    </tr>\n",
       "    <tr>\n",
       "      <th>322</th>\n",
       "      <td>South</td>\n",
       "      <td>Mississippi</td>\n",
       "      <td>Gulfport</td>\n",
       "    </tr>\n",
       "    <tr>\n",
       "      <th>364</th>\n",
       "      <td>South</td>\n",
       "      <td>Virginia</td>\n",
       "      <td>Charlottesville</td>\n",
       "    </tr>\n",
       "    <tr>\n",
       "      <th>389</th>\n",
       "      <td>West</td>\n",
       "      <td>California</td>\n",
       "      <td>Apple Valley</td>\n",
       "    </tr>\n",
       "    <tr>\n",
       "      <th>396</th>\n",
       "      <td>West</td>\n",
       "      <td>California</td>\n",
       "      <td>Citrus Heights</td>\n",
       "    </tr>\n",
       "    <tr>\n",
       "      <th>453</th>\n",
       "      <td>West</td>\n",
       "      <td>California</td>\n",
       "      <td>Visalia</td>\n",
       "    </tr>\n",
       "    <tr>\n",
       "      <th>457</th>\n",
       "      <td>West</td>\n",
       "      <td>California</td>\n",
       "      <td>Yucaipa</td>\n",
       "    </tr>\n",
       "    <tr>\n",
       "      <th>482</th>\n",
       "      <td>West</td>\n",
       "      <td>Nevada</td>\n",
       "      <td>Sparks</td>\n",
       "    </tr>\n",
       "    <tr>\n",
       "      <th>486</th>\n",
       "      <td>West</td>\n",
       "      <td>New Mexico</td>\n",
       "      <td>Farmington</td>\n",
       "    </tr>\n",
       "  </tbody>\n",
       "</table>\n",
       "</div>"
      ],
      "text/plain": [
       "      Region          State              City\n",
       "20   Central       Illinois            Oswego\n",
       "52   Central       Michigan  Dearborn Heights\n",
       "72   Central      Minnesota         Lakeville\n",
       "89   Central       Nebraska           Norfolk\n",
       "94   Central       Oklahoma            Lawton\n",
       "110  Central          Texas   College Station\n",
       "120  Central          Texas       Haltom City\n",
       "153  Central      Wisconsin          Waukesha\n",
       "156     East    Connecticut           Danbury\n",
       "191     East  New Hampshire            Nashua\n",
       "263    South       Arkansas            Conway\n",
       "322    South    Mississippi          Gulfport\n",
       "364    South       Virginia   Charlottesville\n",
       "389     West     California      Apple Valley\n",
       "396     West     California    Citrus Heights\n",
       "453     West     California           Visalia\n",
       "457     West     California           Yucaipa\n",
       "482     West         Nevada            Sparks\n",
       "486     West     New Mexico        Farmington"
      ]
     },
     "execution_count": 52,
     "metadata": {},
     "output_type": "execute_result"
    }
   ],
   "source": [
    "df_slow = df_delivery_standart[df_delivery_standart['Avg_Delivery_Time'] == np.timedelta64(7, 'D')][['Region','State','City']] \\\n",
    "    .sort_values(['Region','State'], ascending = True)\n",
    "df_slow"
   ]
  },
  {
   "cell_type": "code",
   "execution_count": 53,
   "id": "b1a12b5b",
   "metadata": {
    "scrolled": true
   },
   "outputs": [
    {
     "name": "stdout",
     "output_type": "stream",
     "text": [
      "\u001b[1mТочка роста:\u001b[0m\n",
      "\u001b[34mВ 19 городах, указанных выше, рекомендуется обратить особое внимание на работу службы доставки.\n"
     ]
    }
   ],
   "source": [
    "print('\\033[1m' + 'Точка роста:'+ '\\033[0m')\n",
    "print(f'{Fore.BLUE}В {len(df_slow)} городах, указанных выше, рекомендуется обратить особое внимание на работу службы доставки.')"
   ]
  },
  {
   "cell_type": "markdown",
   "id": "69cef488",
   "metadata": {},
   "source": [
    "#### Среднее время доставки в зависимости от штата<a class=\"anchor\" id=\"delivery-state-bullet\"></a>"
   ]
  },
  {
   "cell_type": "code",
   "execution_count": 54,
   "id": "651ba352",
   "metadata": {},
   "outputs": [
    {
     "data": {
      "text/html": [
       "<div>\n",
       "<style scoped>\n",
       "    .dataframe tbody tr th:only-of-type {\n",
       "        vertical-align: middle;\n",
       "    }\n",
       "\n",
       "    .dataframe tbody tr th {\n",
       "        vertical-align: top;\n",
       "    }\n",
       "\n",
       "    .dataframe thead th {\n",
       "        text-align: right;\n",
       "    }\n",
       "</style>\n",
       "<table border=\"1\" class=\"dataframe\">\n",
       "  <thead>\n",
       "    <tr style=\"text-align: right;\">\n",
       "      <th></th>\n",
       "      <th>State</th>\n",
       "      <th>Ship_Mode</th>\n",
       "      <th>Avg_Delivery_Time</th>\n",
       "      <th>Avg_Delivery_Days</th>\n",
       "    </tr>\n",
       "  </thead>\n",
       "  <tbody>\n",
       "    <tr>\n",
       "      <th>7</th>\n",
       "      <td>District of Columbia</td>\n",
       "      <td>Standard Class</td>\n",
       "      <td>6 days 00:00:00</td>\n",
       "      <td>6.000000</td>\n",
       "    </tr>\n",
       "    <tr>\n",
       "      <th>26</th>\n",
       "      <td>Nevada</td>\n",
       "      <td>Standard Class</td>\n",
       "      <td>5 days 16:00:00</td>\n",
       "      <td>5.666667</td>\n",
       "    </tr>\n",
       "    <tr>\n",
       "      <th>13</th>\n",
       "      <td>Iowa</td>\n",
       "      <td>Standard Class</td>\n",
       "      <td>5 days 12:00:00</td>\n",
       "      <td>5.500000</td>\n",
       "    </tr>\n",
       "    <tr>\n",
       "      <th>34</th>\n",
       "      <td>Oklahoma</td>\n",
       "      <td>Standard Class</td>\n",
       "      <td>5 days 11:14:02.553191489</td>\n",
       "      <td>5.468085</td>\n",
       "    </tr>\n",
       "    <tr>\n",
       "      <th>1</th>\n",
       "      <td>Arizona</td>\n",
       "      <td>Standard Class</td>\n",
       "      <td>5 days 07:15:06.474820143</td>\n",
       "      <td>5.302158</td>\n",
       "    </tr>\n",
       "  </tbody>\n",
       "</table>\n",
       "</div>"
      ],
      "text/plain": [
       "                   State       Ship_Mode         Avg_Delivery_Time  \\\n",
       "7   District of Columbia  Standard Class           6 days 00:00:00   \n",
       "26                Nevada  Standard Class           5 days 16:00:00   \n",
       "13                  Iowa  Standard Class           5 days 12:00:00   \n",
       "34              Oklahoma  Standard Class 5 days 11:14:02.553191489   \n",
       "1                Arizona  Standard Class 5 days 07:15:06.474820143   \n",
       "\n",
       "    Avg_Delivery_Days  \n",
       "7            6.000000  \n",
       "26           5.666667  \n",
       "13           5.500000  \n",
       "34           5.468085  \n",
       "1            5.302158  "
      ]
     },
     "execution_count": 54,
     "metadata": {},
     "output_type": "execute_result"
    }
   ],
   "source": [
    "#группирую с по штату и тарифу для стандартного режима\n",
    "df_delivery_state = df.query('Ship_Mode == \"Standard Class\"') \\\n",
    "    .groupby(['State','Ship_Mode'], as_index = False) \\\n",
    "    .agg({'Delivery_Time':'mean'}) \\\n",
    "    .rename(columns={'Delivery_Time':'Avg_Delivery_Time'}) \\\n",
    "    .sort_values(['Avg_Delivery_Time'], ascending = False)\n",
    "#создаю столбец числа дней, которое шла доставка\n",
    "df_delivery_state['Avg_Delivery_Days'] = df_delivery_state['Avg_Delivery_Time'].dt.total_seconds()/(60*60*24)\n",
    "df_delivery_state.head()"
   ]
  },
  {
   "cell_type": "code",
   "execution_count": 55,
   "id": "61878e2d",
   "metadata": {},
   "outputs": [
    {
     "name": "stdout",
     "output_type": "stream",
     "text": [
      "\u001b[34mСамая быстрая стандартная доставка - в штате West Virginia (4 дня).\n"
     ]
    }
   ],
   "source": [
    "print(f'{Fore.BLUE}Самая быстрая стандартная доставка - в штате {df_delivery_state.tail(1).State.values[0]} ({round(df_delivery_state.tail(1).Avg_Delivery_Days.values[0])} дня).')"
   ]
  },
  {
   "cell_type": "code",
   "execution_count": 56,
   "id": "ab7a540d",
   "metadata": {},
   "outputs": [
    {
     "name": "stdout",
     "output_type": "stream",
     "text": [
      "\u001b[1mТочка роста:\u001b[0m\n",
      "\u001b[34mВ штате District of Columbia самая высокая средняя длительность стандартной доставки (6 дней). Рекомендуется обратить внимание на работу там службы доставки.\n"
     ]
    }
   ],
   "source": [
    "print('\\033[1m' + 'Точка роста:'+ '\\033[0m')\n",
    "print(f'{Fore.BLUE}В штате {df_delivery_state.head(1).State.values[0]} самая высокая средняя длительность стандартной доставки ({round(df_delivery_state.head(1).Avg_Delivery_Days.values[0])} дней). Рекомендуется обратить внимание на работу там службы доставки.')"
   ]
  },
  {
   "cell_type": "markdown",
   "id": "f35c0da3",
   "metadata": {},
   "source": [
    "#### Среднее время доставки в зависимости от региона <a class=\"anchor\" id=\"delivery-region-bullet\"></a>"
   ]
  },
  {
   "cell_type": "code",
   "execution_count": 62,
   "id": "63d10b10",
   "metadata": {
    "scrolled": false
   },
   "outputs": [
    {
     "data": {
      "image/png": "[encoded data removed]",
      "text/plain": [
       "<Figure size 980x350 with 4 Axes>"
      ]
     },
     "metadata": {},
     "output_type": "display_data"
    }
   ],
   "source": [
    "g = sns.catplot(\n",
    "    data=df_delivery, x=\"Region\", y=\"Avg_Delivery_Days\", col=\"Ship_Mode\",\n",
    "    kind=\"bar\", height=3.5, aspect=.7, palette = 'pastel'\n",
    ")\n",
    "g.set_axis_labels(\"\", \"Days of Delivery\")\n",
    "g.set_titles(\"{col_name}\")\n",
    "sns.set_palette(\"deep\")\n",
    "g.fig.suptitle('Ship Modes', y=1.05)\n",
    "plt.show()"
   ]
  },
  {
   "cell_type": "markdown",
   "id": "fc565dc5",
   "metadata": {},
   "source": [
    "<font color = #2B65EC >Из графика выше видно, что принципиальной разницы в скорости доставки по регионам нет ни по одному из тарифов."
   ]
  },
  {
   "cell_type": "markdown",
   "id": "39a280a1",
   "metadata": {},
   "source": [
    "## 2. Выводы и рекомендации <a class=\"anchor\" id=\"two-bullet\"></a>"
   ]
  },
  {
   "cell_type": "markdown",
   "id": "4434fa94",
   "metadata": {},
   "source": [
    "#### Наиболее прибыльны продажи (по регионам):    \n",
    "\n",
    " |              | South    | Central  | East     | West     |\n",
    "|--------------|----------|----------|----------|----------|\n",
    "| **Segment**      | Consumer | Corporate | Consumer | Consumer [[1]](#profit-subcategories-bullet) |\n",
    "| **Category**     | Office Supplies, Technology | Technology | Technology | Office Supplies [[2]](#profit-subcategories-bullet)|\n",
    "| **Sub-Category** | Phones, Accessories, Chairs   | Copiers, Phones, Accessories | Copiers, Phones, Binders | Copiers,Accessories, Binders [[3]](#profit-subcategories-bullet)|"
   ]
  },
  {
   "cell_type": "markdown",
   "id": "bcddab9d",
   "metadata": {},
   "source": [
    "#### Убыточны продажи (по регионам):     \n",
    "\n",
    "|              | South    | Central  | East     | West     |\n",
    "|--------------|----------|----------|----------|----------|\n",
    "| **Sub-Category** | Machines, Tables   | Binders, Bookcases, Appliances,Tables и Furnishings   | Supplies, Tables  | Machines, Bookcases  [[4]](#profit-subcategories-bullet)|    \n"
   ]
  },
  {
   "cell_type": "markdown",
   "id": "ebdbf0fd",
   "metadata": {},
   "source": [
    "* Провести проверку товаров с наибольшим числов возвратов и отказаться от распространения некачественных. [[5]](#returns-bullet)\n",
    "* Сократить продажу товаров, приносящих наибольшие убытки компании. [[6]](#2)\n",
    "* Продажу товаров, убыточных в конкретных штатах, сократить в этих штатах. [[7]](#3)\n",
    "* Рассмотреть причины более узкой товарной линейки на юге, расширить продажу прибыльных товаров. [[8]](#number-bullet) \n",
    "* Расширять линейки более прибыльных по регионам сегментов,  не расширять - менее прибыльных. Изучить причины низких прибылей от сегмента Consumer в центральном регионе. [[9]](#profit-segments-bullet) \n",
    "* Рассмотреть возможность расширения линейки товаров самых прибыльных по штатам сегментов.[[10]](#profit-segments-states-bullet) \n",
    "* Сократить поставку товаров в самых убыточных штатах. [[11]](#profit-segments-badstates-bullet)  \n",
    "* Изучить причины низкой прибыльности категории Office Supplies в центральном регионе. Не расширять продажу категории Furniture, как наименее прибыльной. Изучить и доработать текущую стратегию по данной категории во всех регионах. Расширять поставку более прибыльных категорий по регионам и не расширять - менее прибыльных, с учетом статистики по штатам и городам. [[12]](#profit-categories-bullet)  \n",
    "* Рассмотреть расширение товарных линеек по самым прибыльным подкатегориям регионов. Найти причину падения продаж Binders в Central Region и Machines в South Region. [[13]](#profit-subcategories-bullet)  \n",
    "* Регионы по скорости доставки принципиально не отличаются. [[14]](#delivery-region-bullet)    \n",
    "* Рекомендуется улучшить скорость доставки в штате [District of Columbia](#delivery-state-bullet) и [19 городах](#delivery-slow-bullet) с самой медленной доставкой."
   ]
  }
 ],
 "metadata": {
  "kernelspec": {
   "display_name": "Python 3 (ipykernel)",
   "language": "python",
   "name": "python3"
  },
  "language_info": {
   "codemirror_mode": {
    "name": "ipython",
    "version": 3
   },
   "file_extension": ".py",
   "mimetype": "text/x-python",
   "name": "python",
   "nbconvert_exporter": "python",
   "pygments_lexer": "ipython3",
   "version": "3.9.13"
  }
 },
 "nbformat": 4,
 "nbformat_minor": 5
}
